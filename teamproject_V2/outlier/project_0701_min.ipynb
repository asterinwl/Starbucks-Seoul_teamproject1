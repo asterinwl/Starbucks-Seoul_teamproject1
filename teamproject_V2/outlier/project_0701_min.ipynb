{
 "cells": [
  {
   "cell_type": "code",
   "execution_count": 2,
   "id": "21cc149f-76ac-4703-a158-f1ce84b78caf",
   "metadata": {},
   "outputs": [],
   "source": [
    "import pandas as pd"
   ]
  },
  {
   "cell_type": "code",
   "execution_count": 3,
   "id": "818618cd-a966-4c15-b1bf-88a1848ca7f3",
   "metadata": {},
   "outputs": [],
   "source": [
    "pop=pd.read_csv('./flot_pop_18_19_20_rere.csv', encoding='ansi')"
   ]
  },
  {
   "cell_type": "code",
   "execution_count": 4,
   "id": "62125d5f-22c7-4c84-a54d-fb83694d06fb",
   "metadata": {},
   "outputs": [],
   "source": [
    "pop.rename(columns={'기준_년_코드':'year','구':'gu', '총_유동인구_수':'pop'},inplace=True)"
   ]
  },
  {
   "cell_type": "code",
   "execution_count": 5,
   "id": "8536bfd0-1ab1-4c3f-a1ba-30efa8ca7611",
   "metadata": {},
   "outputs": [],
   "source": [
    "pop.drop(columns=['2020_총_유동인구_수_평균(상권코드)', '2019_총_유동인구_수_평균(상권코드)',\n",
    "       '2018_총_유동인구_수_평균(상권코드)','기준_분기_코드', '상권_코드', '상권_코드_명'], inplace=True)"
   ]
  },
  {
   "cell_type": "code",
   "execution_count": 6,
   "id": "b581798a-bcc5-4595-a53f-4dd2aa248acb",
   "metadata": {},
   "outputs": [
    {
     "data": {
      "text/plain": [
       "Index(['year', 'id', 'gu', 'pop'], dtype='object')"
      ]
     },
     "execution_count": 6,
     "metadata": {},
     "output_type": "execute_result"
    }
   ],
   "source": [
    "pop.columns"
   ]
  },
  {
   "cell_type": "code",
   "execution_count": 7,
   "id": "68c7521c-f0e5-4960-997c-03423355dcd0",
   "metadata": {},
   "outputs": [],
   "source": [
    "import numpy as np"
   ]
  },
  {
   "cell_type": "code",
   "execution_count": 8,
   "id": "2d12a3fa-a448-456e-b40c-8394422ae6f9",
   "metadata": {},
   "outputs": [],
   "source": [
    "def outliers_iqr(data):\n",
    "    data1=data.iloc[:,3]\n",
    "    q1, q3 = np.percentile(data1,[2,75])\n",
    "    iqr = q3 - q1\n",
    "    lower_bound = q1 - (iqr * 1.5)\n",
    "    upper_bound = q3 + (iqr * 1.5)\n",
    "    result_ind=np.where((data1 > upper_bound)| (data1 < lower_bound))\n",
    "#     print(result_ind)\n",
    "    remoevData= pd.DataFrame(data.iloc[result_ind[0],3])\n",
    "    return remoevData"
   ]
  },
  {
   "cell_type": "code",
   "execution_count": 10,
   "id": "7027cbbb-b9b4-4264-99e1-491cb49b0ca6",
   "metadata": {},
   "outputs": [
    {
     "name": "stdout",
     "output_type": "stream",
     "text": [
      "Int64Index([], dtype='int64')\n",
      "Int64Index([], dtype='int64')\n",
      "Int64Index([], dtype='int64')\n",
      "Int64Index([8524, 8527, 9534, 9537, 9546, 10544], dtype='int64')\n",
      "Int64Index([], dtype='int64')\n",
      "Int64Index([9963, 10973, 11983], dtype='int64')\n",
      "Int64Index([], dtype='int64')\n",
      "Int64Index([], dtype='int64')\n",
      "Int64Index([9758], dtype='int64')\n",
      "Int64Index([9781], dtype='int64')\n",
      "Int64Index([], dtype='int64')\n",
      "Int64Index([], dtype='int64')\n",
      "Int64Index([8631, 9641, 10651, 11661], dtype='int64')\n",
      "Int64Index([ 8639,  8646,  8651,  8685,  8686,  9649,  9656,  9661,  9695,\n",
      "             9696, 10666, 10671, 10705, 10706, 11715, 11716],\n",
      "           dtype='int64')\n",
      "Int64Index([], dtype='int64')\n",
      "Int64Index([], dtype='int64')\n",
      "Int64Index([], dtype='int64')\n",
      "Int64Index([], dtype='int64')\n",
      "Int64Index([8258, 9268], dtype='int64')\n",
      "Int64Index([], dtype='int64')\n",
      "Int64Index([], dtype='int64')\n",
      "Int64Index([], dtype='int64')\n",
      "Int64Index([], dtype='int64')\n",
      "Int64Index([], dtype='int64')\n",
      "Int64Index([], dtype='int64')\n",
      "Int64Index([], dtype='int64')\n",
      "Int64Index([], dtype='int64')\n",
      "Int64Index([], dtype='int64')\n",
      "Int64Index([4496, 5506, 6516, 7526], dtype='int64')\n",
      "Int64Index([], dtype='int64')\n",
      "Int64Index([], dtype='int64')\n",
      "Int64Index([], dtype='int64')\n",
      "Int64Index([], dtype='int64')\n",
      "Int64Index([], dtype='int64')\n",
      "Int64Index([], dtype='int64')\n",
      "Int64Index([], dtype='int64')\n",
      "Int64Index([], dtype='int64')\n",
      "Int64Index([], dtype='int64')\n",
      "Int64Index([4606, 4611, 5616, 5621, 6626, 6631, 7636, 7641], dtype='int64')\n",
      "Int64Index([4061, 4064, 5071, 5074, 6081, 6084, 7091, 7094], dtype='int64')\n",
      "Int64Index([], dtype='int64')\n",
      "Int64Index([], dtype='int64')\n",
      "Int64Index([], dtype='int64')\n",
      "Int64Index([], dtype='int64')\n",
      "Int64Index([], dtype='int64')\n",
      "Int64Index([], dtype='int64')\n",
      "Int64Index([4661, 5671, 6681, 7691], dtype='int64')\n",
      "Int64Index([], dtype='int64')\n",
      "Int64Index([], dtype='int64')\n",
      "Int64Index([], dtype='int64')\n",
      "Int64Index([], dtype='int64')\n",
      "Int64Index([], dtype='int64')\n",
      "Int64Index([], dtype='int64')\n",
      "Int64Index([456, 1466, 2476, 3486], dtype='int64')\n",
      "Int64Index([], dtype='int64')\n",
      "Int64Index([], dtype='int64')\n",
      "Int64Index([], dtype='int64')\n",
      "Int64Index([], dtype='int64')\n",
      "Int64Index([], dtype='int64')\n",
      "Int64Index([], dtype='int64')\n",
      "Int64Index([], dtype='int64')\n",
      "Int64Index([], dtype='int64')\n",
      "Int64Index([], dtype='int64')\n",
      "Int64Index([566, 571, 1576, 1581, 2586, 2591, 3596, 3601], dtype='int64')\n",
      "Int64Index([1034, 2039, 2044, 3049, 3051, 3054], dtype='int64')\n",
      "Int64Index([], dtype='int64')\n",
      "Int64Index([], dtype='int64')\n",
      "Int64Index([], dtype='int64')\n",
      "Int64Index([], dtype='int64')\n",
      "Int64Index([], dtype='int64')\n",
      "Int64Index([], dtype='int64')\n",
      "Int64Index([621, 1631, 2641, 3651], dtype='int64')\n",
      "Int64Index([], dtype='int64')\n",
      "Int64Index([], dtype='int64')\n",
      "Int64Index([], dtype='int64')\n"
     ]
    }
   ],
   "source": [
    "re = pd.DataFrame(columns=['index','gap'])\n",
    "for ye in set(pop['year']):\n",
    "    for i in set(pop['id']):\n",
    "        a = pop[(pop['year']==ye) & (pop['id']==i)]\n",
    "        print(outliers_iqr(a).index)"
   ]
  },
  {
   "cell_type": "code",
   "execution_count": null,
   "id": "d5b6bd58-bedd-42f7-b296-8fc4f44036a6",
   "metadata": {},
   "outputs": [],
   "source": [
    "# 민형\n",
    "# re = pd.DataFrame(columns=['index','gap'])\n",
    "# for ye in set(pop['year']):\n",
    "#     for i in set(pop['id']):\n",
    "#         a = pop[(pop['year']==ye) & (pop['id']==i)]\n",
    "# #         print(outliers_iqr(a))\n",
    "#         if len(outliers_iqr(a)) != 0:\n",
    "#             re1=outliers_iqr(a)\n",
    "#             for i in re1.index:\n",
    "#                 for s in re1.values:\n",
    "# #                 print(re1.values)\n",
    "# #                 print(re1.values[i])\n",
    "#                     re = re.append(pd.DataFrame([[i, s]],\n",
    "#                                         columns=['index','gap']), ignore_index= True)\n",
    "# #             s=list(a)\n",
    "            "
   ]
  },
  {
   "cell_type": "code",
   "execution_count": null,
   "id": "712b08be-5943-43eb-9536-5254dfa7373c",
   "metadata": {},
   "outputs": [],
   "source": [
    "re.to_csv('./rest.csv',encoding='ansi')"
   ]
  },
  {
   "cell_type": "code",
   "execution_count": null,
   "id": "e81b823a-bffb-4ed3-90b7-269f7ea94e46",
   "metadata": {},
   "outputs": [],
   "source": [
    "# 길종님\n",
    "# re = pd.DataFrame(columns=['index','gap'])\n",
    "# for ye in set(pop['year']):\n",
    "#     for i in set(pop['id']):\n",
    "#         a = pop[(pop['year']==ye) & (pop['id']==i)]['pop']\n",
    "# #         print(outliers_iqr(a))\n",
    "#         if len(outliers_iqr(a)[0]) != 0:\n",
    "#             re1=pop.loc[(outliers_iqr(a)[0]),'pop']\n",
    "#             for i in re1.index:\n",
    "#                 for s in re1.values:\n",
    "# #                 print(re1.values)\n",
    "# #                 print(re1.values[i])\n",
    "#                     re = re.append(pd.DataFrame([[i, s]],\n",
    "#                                         columns=['index','gap']), ignore_index= True)\n",
    "# #             s=list(a)\n",
    "            "
   ]
  },
  {
   "cell_type": "markdown",
   "id": "f85381ea-1b71-4d48-884f-88428347df13",
   "metadata": {},
   "source": [
    "### restart"
   ]
  },
  {
   "cell_type": "code",
   "execution_count": null,
   "id": "99c63238-dd29-4d17-8d06-f3b4a42a57fe",
   "metadata": {},
   "outputs": [],
   "source": [
    "pop_re = pd.read_csv('./self_test_pop.xlsx', encoding='ansi')"
   ]
  },
  {
   "cell_type": "code",
   "execution_count": null,
   "id": "7f16d855-7e72-4fde-8c82-d3d957559f69",
   "metadata": {},
   "outputs": [],
   "source": [
    "pop_re.columns"
   ]
  },
  {
   "cell_type": "code",
   "execution_count": null,
   "id": "8b2eff07-3f46-41de-8249-ea8c6eb5cd6c",
   "metadata": {},
   "outputs": [],
   "source": [
    "re = pd.DataFrame(columns=['index','gap'])\n",
    "for ye in set(pop_re['year']):\n",
    "    for i in set(pop_re['id_gu']):\n",
    "#         print(ye)\n",
    "        a = pop_re[(pop_re['year']==ye) & (pop_re['id_gu']==i)]['pop']\n",
    "        if len(outliers_iqr(a)[0]) != 0:\n",
    "            re1=pop_re.loc[(outliers_iqr(a)[0]),'pop']\n",
    "            print(re1.index)\n",
    "#             print(re1)\n",
    "#             pop_re.drop(pop_re.values[re1.values], axis=0, inplace=True)\n",
    "#             for i in re1.index:\n",
    "#                 for s in re1.values:\n",
    "#                     re = re.append(pd.DataFrame([[i, s]],\n",
    "#                                         columns=['index','gap']), ignore_index= True)\n",
    "            "
   ]
  },
  {
   "cell_type": "code",
   "execution_count": null,
   "id": "58cee3b8-6761-47c2-9c28-857b3b24f8a3",
   "metadata": {},
   "outputs": [],
   "source": [
    "re = pd.DataFrame(columns=['index','gap'])\n",
    "listex = []\n",
    "for ye in set(pop_re['year']):\n",
    "    for i in set(pop_re['id_gu']):\n",
    "#         print(ye)\n",
    "        a = pop_re[(pop_re['year']==ye) & (pop_re['id_gu']==i)]['pop']\n",
    "        if len(outliers_iqr(a)[0]) != 0:\n",
    "            re1=pop_re.loc[(outliers_iqr(a)[0]),'pop']\n",
    "            print(re1.index)\n",
    "            # 지워야 할 값 list 만들기\n",
    "            listex = re1.append(listex)\n",
    "            print(listex.values)"
   ]
  },
  {
   "cell_type": "code",
   "execution_count": null,
   "id": "9f90ae6f-716d-4ffc-a798-eac762f40a19",
   "metadata": {},
   "outputs": [],
   "source": [
    "# pop_re\n",
    "for i in range(len(listex.values):\n",
    "     if listex.values[i] in pop_re['pop']:\n",
    "               pop_re"
   ]
  },
  {
   "cell_type": "code",
   "execution_count": null,
   "id": "969b9d26-0d5c-4976-8117-2f8aee09d08d",
   "metadata": {},
   "outputs": [],
   "source": [
    "pop_re['pop']"
   ]
  },
  {
   "cell_type": "code",
   "execution_count": null,
   "id": "2bafcf3b-2100-41e9-944a-7a71540659fb",
   "metadata": {},
   "outputs": [],
   "source": [
    "liste= pd.DataFrame(listex)"
   ]
  },
  {
   "cell_type": "code",
   "execution_count": null,
   "id": "362bf1c8-97d4-4dab-b6ce-d201932c947b",
   "metadata": {},
   "outputs": [],
   "source": [
    "liste.index"
   ]
  },
  {
   "cell_type": "code",
   "execution_count": null,
   "id": "5fcfe75a-f2b5-4f60-8bc4-db2fe03a33e3",
   "metadata": {},
   "outputs": [],
   "source": []
  },
  {
   "cell_type": "code",
   "execution_count": null,
   "id": "9ceaacff-ed78-43ab-b4e7-aee267ec9967",
   "metadata": {},
   "outputs": [],
   "source": []
  },
  {
   "cell_type": "code",
   "execution_count": null,
   "id": "314718d3-75ce-4231-b64e-b4d325502b98",
   "metadata": {},
   "outputs": [],
   "source": [
    "for i in range(len(rmDatas[0])):\n",
    "    if rmDatas[0][i].is\n",
    "    rmDatas[0].dropna(axis=0)"
   ]
  },
  {
   "cell_type": "code",
   "execution_count": null,
   "id": "fedee716-90e6-4067-9c3e-1be4b4ca83b3",
   "metadata": {},
   "outputs": [],
   "source": [
    "rmDatas[0]"
   ]
  },
  {
   "cell_type": "code",
   "execution_count": null,
   "id": "fd8d2f77-a0f2-497e-9343-ec5ccbd8aee5",
   "metadata": {},
   "outputs": [],
   "source": [
    "pop.index[1].drop()"
   ]
  },
  {
   "cell_type": "code",
   "execution_count": null,
   "id": "e6ff1232-9cd9-41b5-8b6e-a2af56524263",
   "metadata": {},
   "outputs": [],
   "source": [
    "import matplotlib.pyplot as plt"
   ]
  },
  {
   "cell_type": "code",
   "execution_count": null,
   "id": "9e346458-4734-4860-8104-781d7b480653",
   "metadata": {},
   "outputs": [],
   "source": [
    "import seaborn as sns"
   ]
  },
  {
   "cell_type": "code",
   "execution_count": null,
   "id": "09be9ac3-29d1-4f99-a8aa-156bd8ec2f19",
   "metadata": {},
   "outputs": [],
   "source": [
    "import numpy as np"
   ]
  },
  {
   "cell_type": "code",
   "execution_count": null,
   "id": "a68fc8ac-58bc-407c-b1e7-6bde9ce66b9d",
   "metadata": {},
   "outputs": [],
   "source": [
    "fig=plt.figure(figsize=(10,6))\n",
    "sns.boxplot(data=pop_2020_1)"
   ]
  },
  {
   "cell_type": "code",
   "execution_count": null,
   "id": "9d7b3622-9d30-4ed4-8868-7701ae534afd",
   "metadata": {},
   "outputs": [],
   "source": [
    "type(delete_pop)"
   ]
  },
  {
   "cell_type": "code",
   "execution_count": null,
   "id": "30bfaa68-a92b-4f95-851e-1a0219c61f60",
   "metadata": {},
   "outputs": [],
   "source": [
    "pop_2020_1.iloc[[13,18,  77,  82, 141, 146, 205, 210],3]#,  ]"
   ]
  },
  {
   "cell_type": "code",
   "execution_count": null,
   "id": "0c05eff8-869d-4805-a4ac-22476fd0bc6d",
   "metadata": {},
   "outputs": [],
   "source": [
    "a=pop[(pop['year']==2020) & (pop['id']==1)]"
   ]
  },
  {
   "cell_type": "code",
   "execution_count": null,
   "id": "06922487-c4da-4ef8-b614-48601693d9c9",
   "metadata": {},
   "outputs": [],
   "source": [
    "a= outliers_iqr(pop[(pop['year']==2020) & (pop['id']==1)]['pop'])"
   ]
  },
  {
   "cell_type": "code",
   "execution_count": null,
   "id": "37701f1d-f3db-4566-8ddc-2e39bd24d55e",
   "metadata": {},
   "outputs": [],
   "source": [
    "a[0]"
   ]
  },
  {
   "cell_type": "code",
   "execution_count": null,
   "id": "d2ba1a52-a0e3-4889-92b9-6157120df4a2",
   "metadata": {},
   "outputs": [],
   "source": [
    "pop[pop['year']==2020].index"
   ]
  },
  {
   "cell_type": "code",
   "execution_count": null,
   "id": "973d4cb3-1720-403b-a704-a993c6b5d745",
   "metadata": {},
   "outputs": [],
   "source": [
    "# i=[]\n",
    "for i in pop['id']:\n",
    "#     print(i)\n",
    "    globals()['pop' + str(i)] = i\n",
    "#     print(pop1 + pop2)\n",
    "# test2"
   ]
  },
  {
   "cell_type": "code",
   "execution_count": null,
   "id": "4900fd49-cf10-4839-9856-e911fb0f0353",
   "metadata": {},
   "outputs": [],
   "source": [
    "# import pymysql.cursors # Connect to the database\n",
    "\n",
    "# connection = pymysql.connect(host='localhost',\n",
    "#         user='root',\n",
    "#         password='1234',\n",
    "#         db='classicmodels',\n",
    "#         charset='utf8',\n",
    "#         cursorclass=pymysql.cursors.DictCursor)"
   ]
  }
 ],
 "metadata": {
  "kernelspec": {
   "display_name": "Python Multi",
   "language": "python",
   "name": "multi"
  },
  "language_info": {
   "codemirror_mode": {
    "name": "ipython",
    "version": 3
   },
   "file_extension": ".py",
   "mimetype": "text/x-python",
   "name": "python",
   "nbconvert_exporter": "python",
   "pygments_lexer": "ipython3",
   "version": "3.7.6"
  }
 },
 "nbformat": 4,
 "nbformat_minor": 5
}

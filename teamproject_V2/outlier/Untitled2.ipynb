{
 "cells": [
  {
   "cell_type": "code",
   "execution_count": 1,
   "id": "21cc149f-76ac-4703-a158-f1ce84b78caf",
   "metadata": {},
   "outputs": [],
   "source": [
    "import pandas as pd"
   ]
  },
  {
   "cell_type": "code",
   "execution_count": 2,
   "id": "818618cd-a966-4c15-b1bf-88a1848ca7f3",
   "metadata": {},
   "outputs": [],
   "source": [
    "pop=pd.read_csv('./flot_pop_18_19_20_rere.csv', encoding='ansi')"
   ]
  },
  {
   "cell_type": "code",
   "execution_count": 3,
   "id": "62125d5f-22c7-4c84-a54d-fb83694d06fb",
   "metadata": {},
   "outputs": [],
   "source": [
    "pop.rename(columns={'기준_년_코드':'year','구':'gu', '총_유동인구_수':'pop'},inplace=True)"
   ]
  },
  {
   "cell_type": "code",
   "execution_count": 4,
   "id": "8536bfd0-1ab1-4c3f-a1ba-30efa8ca7611",
   "metadata": {},
   "outputs": [],
   "source": [
    "pop.drop(columns=['2020_총_유동인구_수_평균(상권코드)', '2019_총_유동인구_수_평균(상권코드)',\n",
    "       '2018_총_유동인구_수_평균(상권코드)','기준_분기_코드', '상권_코드', '상권_코드_명'], inplace=True)"
   ]
  },
  {
   "cell_type": "code",
   "execution_count": 5,
   "id": "aefe5cfe-c35c-4de8-a806-4969b2225bf9",
   "metadata": {},
   "outputs": [
    {
     "data": {
      "text/html": [
       "<div>\n",
       "<style scoped>\n",
       "    .dataframe tbody tr th:only-of-type {\n",
       "        vertical-align: middle;\n",
       "    }\n",
       "\n",
       "    .dataframe tbody tr th {\n",
       "        vertical-align: top;\n",
       "    }\n",
       "\n",
       "    .dataframe thead th {\n",
       "        text-align: right;\n",
       "    }\n",
       "</style>\n",
       "<table border=\"1\" class=\"dataframe\">\n",
       "  <thead>\n",
       "    <tr style=\"text-align: right;\">\n",
       "      <th></th>\n",
       "      <th>year</th>\n",
       "      <th>id</th>\n",
       "      <th>gu</th>\n",
       "      <th>pop</th>\n",
       "    </tr>\n",
       "  </thead>\n",
       "  <tbody>\n",
       "    <tr>\n",
       "      <th>0</th>\n",
       "      <td>2020</td>\n",
       "      <td>18</td>\n",
       "      <td>송파구</td>\n",
       "      <td>9692443</td>\n",
       "    </tr>\n",
       "  </tbody>\n",
       "</table>\n",
       "</div>"
      ],
      "text/plain": [
       "   year  id   gu      pop\n",
       "0  2020  18  송파구  9692443"
      ]
     },
     "execution_count": 5,
     "metadata": {},
     "output_type": "execute_result"
    }
   ],
   "source": [
    "pop.head(1)"
   ]
  },
  {
   "cell_type": "code",
   "execution_count": 6,
   "id": "68c7521c-f0e5-4960-997c-03423355dcd0",
   "metadata": {},
   "outputs": [],
   "source": [
    "import numpy as np"
   ]
  },
  {
   "cell_type": "code",
   "execution_count": 7,
   "id": "9475523e-469e-47d4-a020-267415f0cb7a",
   "metadata": {},
   "outputs": [],
   "source": [
    "def outliers_iqr(data):\n",
    "    q1, q3 = np.percentile(data,[2,75])\n",
    "    iqr = q3 - q1\n",
    "    lower_bound = q1 - (iqr * 1.5)\n",
    "    upper_bound = q3 + (iqr * 1.5)\n",
    "    \n",
    "    return np.where((data > upper_bound)| (data < lower_bound))"
   ]
  },
  {
   "cell_type": "code",
   "execution_count": 8,
   "id": "618f5351-7205-47f6-96bb-1a8a06575cbd",
   "metadata": {},
   "outputs": [],
   "source": [
    "pop_2020_1=pop[(pop['year']==2020) & (pop['gu']=='서대문구')]"
   ]
  },
  {
   "cell_type": "code",
   "execution_count": 9,
   "id": "9f6b6b71-a695-43ef-b031-79b8b125d771",
   "metadata": {},
   "outputs": [],
   "source": [
    "delete_pop=outliers_iqr(pop_2020_1['pop'])[0]"
   ]
  },
  {
   "cell_type": "code",
   "execution_count": 10,
   "id": "a58d8326-c83e-4b65-9771-6f3695e57bed",
   "metadata": {},
   "outputs": [
    {
     "data": {
      "text/plain": [
       "array([ 13,  18,  77,  82, 141, 146, 205, 210], dtype=int64)"
      ]
     },
     "execution_count": 10,
     "metadata": {},
     "output_type": "execute_result"
    }
   ],
   "source": [
    "delete_pop"
   ]
  },
  {
   "cell_type": "code",
   "execution_count": 11,
   "id": "72de24b0-56e8-4c91-9e25-78401ae0a096",
   "metadata": {},
   "outputs": [],
   "source": [
    "pops = pd.DataFrame()"
   ]
  },
  {
   "cell_type": "code",
   "execution_count": 12,
   "id": "d5b6bd58-bedd-42f7-b296-8fc4f44036a6",
   "metadata": {},
   "outputs": [],
   "source": [
    "re = pd.DataFrame(columns=['index','gap'])\n",
    "for ye in set(pop['year']):\n",
    "    for i in set(pop['id']):\n",
    "        a = pop[(pop['year']==ye) & (pop['id']==i)]['pop']\n",
    "#         print(outliers_iqr(a))\n",
    "        if len(outliers_iqr(a)[0]) != 0:\n",
    "            re1=pop.loc[(outliers_iqr(a)[0]),'pop']\n",
    "            for i in re1.index:\n",
    "                for s in re1.values:\n",
    "#                 print(re1.values)\n",
    "#                 print(re1.values[i])\n",
    "                    re = re.append(pd.DataFrame([[i, s]],\n",
    "                                        columns=['index','gap']), ignore_index= True)\n",
    "#             s=list(a)\n",
    "            "
   ]
  },
  {
   "cell_type": "code",
   "execution_count": 13,
   "id": "712b08be-5943-43eb-9536-5254dfa7373c",
   "metadata": {},
   "outputs": [],
   "source": [
    "re.to_csv('./rest.csv',encoding='ansi')"
   ]
  },
  {
   "cell_type": "code",
   "execution_count": null,
   "id": "e81b823a-bffb-4ed3-90b7-269f7ea94e46",
   "metadata": {},
   "outputs": [],
   "source": []
  },
  {
   "cell_type": "markdown",
   "id": "f85381ea-1b71-4d48-884f-88428347df13",
   "metadata": {},
   "source": [
    "### restart"
   ]
  },
  {
   "cell_type": "code",
   "execution_count": 15,
   "id": "99c63238-dd29-4d17-8d06-f3b4a42a57fe",
   "metadata": {},
   "outputs": [],
   "source": [
    "pop_re = pd.read_csv('./self_test_pop.csv', encoding='ansi')"
   ]
  },
  {
   "cell_type": "code",
   "execution_count": 16,
   "id": "7f16d855-7e72-4fde-8c82-d3d957559f69",
   "metadata": {},
   "outputs": [
    {
     "data": {
      "text/plain": [
       "Index(['id', 'year', 'id_gu', 'gu', 'pop'], dtype='object')"
      ]
     },
     "execution_count": 16,
     "metadata": {},
     "output_type": "execute_result"
    }
   ],
   "source": [
    "pop_re.columns"
   ]
  },
  {
   "cell_type": "code",
   "execution_count": 19,
   "id": "8b2eff07-3f46-41de-8249-ea8c6eb5cd6c",
   "metadata": {},
   "outputs": [
    {
     "name": "stdout",
     "output_type": "stream",
     "text": [
      "Int64Index([42, 45, 99, 102, 111, 156], dtype='int64')\n",
      "[6155512 5093640 2788286 2293309 3537164 4548182]\n",
      "Int64Index([58, 94, 130], dtype='int64')\n",
      "[4943172 3689705 3897951 6155512 5093640 2788286 2293309 3537164 4548182]\n",
      "Int64Index([18], dtype='int64')\n",
      "[6274310 4943172 3689705 3897951 6155512 5093640 2788286 2293309 3537164\n",
      " 4548182]\n",
      "Int64Index([27], dtype='int64')\n",
      "[8668736 6274310 4943172 3689705 3897951 6155512 5093640 2788286 2293309\n",
      " 3537164 4548182]\n",
      "Int64Index([46, 94, 142, 190], dtype='int64')\n",
      "[3910370 3689705 5013914 6112939 8668736 6274310 4943172 3689705 3897951\n",
      " 6155512 5093640 2788286 2293309 3537164 4548182]\n",
      "Int64Index([6, 13, 18, 52, 53, 70, 77, 82, 116, 117, 141, 146, 180, 181, 244,\n",
      "            245],\n",
      "           dtype='int64')\n",
      "[10638967  3999803  6274310  4323620  4148942  5543774  3849639   949507\n",
      "  4041107  4083361  3916261  3245872  4577563  6092344  4778064  3517018\n",
      "  3910370  3689705  5013914  6112939  8668736  6274310  4943172  3689705\n",
      "  3897951  6155512  5093640  2788286  2293309  3537164  4548182]\n",
      "Int64Index([0, 47], dtype='int64')\n",
      "[ 9692443  6453146 10638967  3999803  6274310  4323620  4148942  5543774\n",
      "  3849639   949507  4041107  4083361  3916261  3245872  4577563  6092344\n",
      "  4778064  3517018  3910370  3689705  5013914  6112939  8668736  6274310\n",
      "  4943172  3689705  3897951  6155512  5093640  2788286  2293309  3537164\n",
      "  4548182]\n",
      "Int64Index([54, 111, 168, 225], dtype='int64')\n",
      "[ 5702012  3537164  3005214  6613517  9692443  6453146 10638967  3999803\n",
      "  6274310  4323620  4148942  5543774  3849639   949507  4041107  4083361\n",
      "  3916261  3245872  4577563  6092344  4778064  3517018  3910370  3689705\n",
      "  5013914  6112939  8668736  6274310  4943172  3689705  3897951  6155512\n",
      "  5093640  2788286  2293309  3537164  4548182]\n",
      "Int64Index([13, 18, 77, 82, 141, 146, 205, 210], dtype='int64')\n",
      "[ 3999803  6274310  3849639   949507  3916261  3245872  4382152  4581013\n",
      "  5702012  3537164  3005214  6613517  9692443  6453146 10638967  3999803\n",
      "  6274310  4323620  4148942  5543774  3849639   949507  4041107  4083361\n",
      "  3916261  3245872  4577563  6092344  4778064  3517018  3910370  3689705\n",
      "  5013914  6112939  8668736  6274310  4943172  3689705  3897951  6155512\n",
      "  5093640  2788286  2293309  3537164  4548182]\n",
      "Int64Index([3, 6, 51, 54, 99, 102, 147, 150], dtype='int64')\n",
      "[ 1425329 10638967  3451251  5702012  2788286  2293309  4539815  3300288\n",
      "  3999803  6274310  3849639   949507  3916261  3245872  4382152  4581013\n",
      "  5702012  3537164  3005214  6613517  9692443  6453146 10638967  3999803\n",
      "  6274310  4323620  4148942  5543774  3849639   949507  4041107  4083361\n",
      "  3916261  3245872  4577563  6092344  4778064  3517018  3910370  3689705\n",
      "  5013914  6112939  8668736  6274310  4943172  3689705  3897951  6155512\n",
      "  5093640  2788286  2293309  3537164  4548182]\n",
      "Int64Index([4, 9, 14, 19], dtype='int64')\n",
      "[ 5812854  9787553  3832525  8487732  1425329 10638967  3451251  5702012\n",
      "  2788286  2293309  4539815  3300288  3999803  6274310  3849639   949507\n",
      "  3916261  3245872  4382152  4581013  5702012  3537164  3005214  6613517\n",
      "  9692443  6453146 10638967  3999803  6274310  4323620  4148942  5543774\n",
      "  3849639   949507  4041107  4083361  3916261  3245872  4577563  6092344\n",
      "  4778064  3517018  3910370  3689705  5013914  6112939  8668736  6274310\n",
      "  4943172  3689705  3897951  6155512  5093640  2788286  2293309  3537164\n",
      "  4548182]\n",
      "Int64Index([54, 111, 168, 225], dtype='int64')\n",
      "[ 5702012  3537164  3005214  6613517  5812854  9787553  3832525  8487732\n",
      "  1425329 10638967  3451251  5702012  2788286  2293309  4539815  3300288\n",
      "  3999803  6274310  3849639   949507  3916261  3245872  4382152  4581013\n",
      "  5702012  3537164  3005214  6613517  9692443  6453146 10638967  3999803\n",
      "  6274310  4323620  4148942  5543774  3849639   949507  4041107  4083361\n",
      "  3916261  3245872  4577563  6092344  4778064  3517018  3910370  3689705\n",
      "  5013914  6112939  8668736  6274310  4943172  3689705  3897951  6155512\n",
      "  5093640  2788286  2293309  3537164  4548182]\n",
      "Int64Index([13, 18, 77, 82, 141, 146, 205, 210], dtype='int64')\n",
      "[ 3999803  6274310  3849639   949507  3916261  3245872  4382152  4581013\n",
      "  5702012  3537164  3005214  6613517  5812854  9787553  3832525  8487732\n",
      "  1425329 10638967  3451251  5702012  2788286  2293309  4539815  3300288\n",
      "  3999803  6274310  3849639   949507  3916261  3245872  4382152  4581013\n",
      "  5702012  3537164  3005214  6613517  9692443  6453146 10638967  3999803\n",
      "  6274310  4323620  4148942  5543774  3849639   949507  4041107  4083361\n",
      "  3916261  3245872  4577563  6092344  4778064  3517018  3910370  3689705\n",
      "  5013914  6112939  8668736  6274310  4943172  3689705  3897951  6155512\n",
      "  5093640  2788286  2293309  3537164  4548182]\n",
      "Int64Index([54, 97, 102, 145, 147, 150], dtype='int64')\n",
      "[ 5702012  5949088  2293309  4036394  4539815  3300288  3999803  6274310\n",
      "  3849639   949507  3916261  3245872  4382152  4581013  5702012  3537164\n",
      "  3005214  6613517  5812854  9787553  3832525  8487732  1425329 10638967\n",
      "  3451251  5702012  2788286  2293309  4539815  3300288  3999803  6274310\n",
      "  3849639   949507  3916261  3245872  4382152  4581013  5702012  3537164\n",
      "  3005214  6613517  9692443  6453146 10638967  3999803  6274310  4323620\n",
      "  4148942  5543774  3849639   949507  4041107  4083361  3916261  3245872\n",
      "  4577563  6092344  4778064  3517018  3910370  3689705  5013914  6112939\n",
      "  8668736  6274310  4943172  3689705  3897951  6155512  5093640  2788286\n",
      "  2293309  3537164  4548182]\n",
      "Int64Index([4, 9, 14, 19], dtype='int64')\n",
      "[ 5812854  9787553  3832525  8487732  5702012  5949088  2293309  4036394\n",
      "  4539815  3300288  3999803  6274310  3849639   949507  3916261  3245872\n",
      "  4382152  4581013  5702012  3537164  3005214  6613517  5812854  9787553\n",
      "  3832525  8487732  1425329 10638967  3451251  5702012  2788286  2293309\n",
      "  4539815  3300288  3999803  6274310  3849639   949507  3916261  3245872\n",
      "  4382152  4581013  5702012  3537164  3005214  6613517  9692443  6453146\n",
      " 10638967  3999803  6274310  4323620  4148942  5543774  3849639   949507\n",
      "  4041107  4083361  3916261  3245872  4577563  6092344  4778064  3517018\n",
      "  3910370  3689705  5013914  6112939  8668736  6274310  4943172  3689705\n",
      "  3897951  6155512  5093640  2788286  2293309  3537164  4548182]\n"
     ]
    }
   ],
   "source": [
    "re = pd.DataFrame(columns=['index','gap'])\n",
    "listex=[]\n",
    "for ye in set(pop_re['year']):\n",
    "    for i in set(pop_re['id_gu']):\n",
    "        a = pop_re[(pop_re['year']==ye) & (pop_re['id_gu']==i)]['pop']\n",
    "        if len(outliers_iqr(a)[0]) != 0:\n",
    "            re1=pop_re.loc[(outliers_iqr(a)[0]),'pop']\n",
    "            print(re1.index)\n",
    "            \n",
    "            listex=re1.append(listex)\n",
    "            print(listex.values)"
   ]
  },
  {
   "cell_type": "code",
   "execution_count": null,
   "id": "8c36f90d-eb20-4db7-b765-83ab6e2142ff",
   "metadata": {},
   "outputs": [],
   "source": [
    "re = pd.DataFrame(columns=['index','gap'])\n",
    "listex=[]\n",
    "for ye in set(pop_re['year']):\n",
    "    for i in set(pop_re['id_gu']):\n",
    "#         print(ye)\n",
    "        a = pop_re[(pop_re['year']==ye) & (pop_re['id_gu']==i)]['pop']\n",
    "        if len(outliers_iqr(a)[0]) != 0:\n",
    "            re1=pop_re.loc[(outliers_iqr(a)[0]),'pop']\n",
    "            print(re1.index)\n",
    "#             print(re1)\n",
    "#             pop_re.drop(pop_re.values[re1.values], axis=0, inplace=True)\n",
    "#             for i in re1.index:\n",
    "#                 for s in re1.values:\n",
    "#                     re = re.append(pd.DataFrame([[i, s]],\n",
    "#                                         columns=['index','gap']), ignore_index= True)\n",
    "            listex=re1.append(listex)\n",
    "            print(listex.values)"
   ]
  },
  {
   "cell_type": "code",
   "execution_count": 21,
   "id": "58cee3b8-6761-47c2-9c28-857b3b24f8a3",
   "metadata": {},
   "outputs": [
    {
     "data": {
      "text/plain": [
       "4      5812854\n",
       "9      9787553\n",
       "14     3832525\n",
       "19     8487732\n",
       "54     5702012\n",
       "        ...   \n",
       "45     5093640\n",
       "99     2788286\n",
       "102    2293309\n",
       "111    3537164\n",
       "156    4548182\n",
       "Name: pop, Length: 79, dtype: int64"
      ]
     },
     "execution_count": 21,
     "metadata": {},
     "output_type": "execute_result"
    }
   ],
   "source": [
    "listex"
   ]
  },
  {
   "cell_type": "code",
   "execution_count": 22,
   "id": "969b9d26-0d5c-4976-8117-2f8aee09d08d",
   "metadata": {},
   "outputs": [
    {
     "data": {
      "text/html": [
       "<div>\n",
       "<style scoped>\n",
       "    .dataframe tbody tr th:only-of-type {\n",
       "        vertical-align: middle;\n",
       "    }\n",
       "\n",
       "    .dataframe tbody tr th {\n",
       "        vertical-align: top;\n",
       "    }\n",
       "\n",
       "    .dataframe thead th {\n",
       "        text-align: right;\n",
       "    }\n",
       "</style>\n",
       "<table border=\"1\" class=\"dataframe\">\n",
       "  <thead>\n",
       "    <tr style=\"text-align: right;\">\n",
       "      <th></th>\n",
       "      <th>id</th>\n",
       "      <th>year</th>\n",
       "      <th>id_gu</th>\n",
       "      <th>gu</th>\n",
       "      <th>pop</th>\n",
       "    </tr>\n",
       "  </thead>\n",
       "  <tbody>\n",
       "    <tr>\n",
       "      <th>0</th>\n",
       "      <td>1</td>\n",
       "      <td>2020</td>\n",
       "      <td>18</td>\n",
       "      <td>송파구</td>\n",
       "      <td>9692443</td>\n",
       "    </tr>\n",
       "    <tr>\n",
       "      <th>1</th>\n",
       "      <td>2</td>\n",
       "      <td>2020</td>\n",
       "      <td>2</td>\n",
       "      <td>강동구</td>\n",
       "      <td>8798709</td>\n",
       "    </tr>\n",
       "    <tr>\n",
       "      <th>2</th>\n",
       "      <td>3</td>\n",
       "      <td>2020</td>\n",
       "      <td>2</td>\n",
       "      <td>강동구</td>\n",
       "      <td>7345107</td>\n",
       "    </tr>\n",
       "    <tr>\n",
       "      <th>3</th>\n",
       "      <td>4</td>\n",
       "      <td>2020</td>\n",
       "      <td>2</td>\n",
       "      <td>강동구</td>\n",
       "      <td>1425329</td>\n",
       "    </tr>\n",
       "    <tr>\n",
       "      <th>4</th>\n",
       "      <td>5</td>\n",
       "      <td>2020</td>\n",
       "      <td>2</td>\n",
       "      <td>강동구</td>\n",
       "      <td>5812854</td>\n",
       "    </tr>\n",
       "    <tr>\n",
       "      <th>...</th>\n",
       "      <td>...</td>\n",
       "      <td>...</td>\n",
       "      <td>...</td>\n",
       "      <td>...</td>\n",
       "      <td>...</td>\n",
       "    </tr>\n",
       "    <tr>\n",
       "      <th>12115</th>\n",
       "      <td>12116</td>\n",
       "      <td>2018</td>\n",
       "      <td>23</td>\n",
       "      <td>종로구</td>\n",
       "      <td>52333</td>\n",
       "    </tr>\n",
       "    <tr>\n",
       "      <th>12116</th>\n",
       "      <td>12117</td>\n",
       "      <td>2018</td>\n",
       "      <td>23</td>\n",
       "      <td>종로구</td>\n",
       "      <td>1400238</td>\n",
       "    </tr>\n",
       "    <tr>\n",
       "      <th>12117</th>\n",
       "      <td>12118</td>\n",
       "      <td>2018</td>\n",
       "      <td>23</td>\n",
       "      <td>종로구</td>\n",
       "      <td>1747636</td>\n",
       "    </tr>\n",
       "    <tr>\n",
       "      <th>12118</th>\n",
       "      <td>12119</td>\n",
       "      <td>2018</td>\n",
       "      <td>23</td>\n",
       "      <td>종로구</td>\n",
       "      <td>2304441</td>\n",
       "    </tr>\n",
       "    <tr>\n",
       "      <th>12119</th>\n",
       "      <td>12120</td>\n",
       "      <td>2018</td>\n",
       "      <td>23</td>\n",
       "      <td>종로구</td>\n",
       "      <td>590419</td>\n",
       "    </tr>\n",
       "  </tbody>\n",
       "</table>\n",
       "<p>12120 rows × 5 columns</p>\n",
       "</div>"
      ],
      "text/plain": [
       "          id  year  id_gu   gu      pop\n",
       "0          1  2020     18  송파구  9692443\n",
       "1          2  2020      2  강동구  8798709\n",
       "2          3  2020      2  강동구  7345107\n",
       "3          4  2020      2  강동구  1425329\n",
       "4          5  2020      2  강동구  5812854\n",
       "...      ...   ...    ...  ...      ...\n",
       "12115  12116  2018     23  종로구    52333\n",
       "12116  12117  2018     23  종로구  1400238\n",
       "12117  12118  2018     23  종로구  1747636\n",
       "12118  12119  2018     23  종로구  2304441\n",
       "12119  12120  2018     23  종로구   590419\n",
       "\n",
       "[12120 rows x 5 columns]"
      ]
     },
     "execution_count": 22,
     "metadata": {},
     "output_type": "execute_result"
    }
   ],
   "source": [
    "pop_re"
   ]
  },
  {
   "cell_type": "code",
   "execution_count": null,
   "id": "2bafcf3b-2100-41e9-944a-7a71540659fb",
   "metadata": {},
   "outputs": [],
   "source": []
  },
  {
   "cell_type": "code",
   "execution_count": null,
   "id": "362bf1c8-97d4-4dab-b6ce-d201932c947b",
   "metadata": {},
   "outputs": [],
   "source": []
  },
  {
   "cell_type": "code",
   "execution_count": null,
   "id": "5fcfe75a-f2b5-4f60-8bc4-db2fe03a33e3",
   "metadata": {},
   "outputs": [],
   "source": []
  },
  {
   "cell_type": "code",
   "execution_count": null,
   "id": "9ceaacff-ed78-43ab-b4e7-aee267ec9967",
   "metadata": {},
   "outputs": [],
   "source": []
  },
  {
   "cell_type": "code",
   "execution_count": null,
   "id": "314718d3-75ce-4231-b64e-b4d325502b98",
   "metadata": {},
   "outputs": [],
   "source": [
    "for i in range(len(rmDatas[0])):\n",
    "    if rmDatas[0][i].is\n",
    "    rmDatas[0].dropna(axis=0)"
   ]
  },
  {
   "cell_type": "code",
   "execution_count": null,
   "id": "fedee716-90e6-4067-9c3e-1be4b4ca83b3",
   "metadata": {},
   "outputs": [],
   "source": [
    "rmDatas[0]"
   ]
  },
  {
   "cell_type": "code",
   "execution_count": null,
   "id": "fd8d2f77-a0f2-497e-9343-ec5ccbd8aee5",
   "metadata": {},
   "outputs": [],
   "source": [
    "pop.index[1].drop()"
   ]
  },
  {
   "cell_type": "code",
   "execution_count": null,
   "id": "e6ff1232-9cd9-41b5-8b6e-a2af56524263",
   "metadata": {},
   "outputs": [],
   "source": [
    "import matplotlib.pyplot as plt"
   ]
  },
  {
   "cell_type": "code",
   "execution_count": null,
   "id": "9e346458-4734-4860-8104-781d7b480653",
   "metadata": {},
   "outputs": [],
   "source": [
    "import seaborn as sns"
   ]
  },
  {
   "cell_type": "code",
   "execution_count": null,
   "id": "09be9ac3-29d1-4f99-a8aa-156bd8ec2f19",
   "metadata": {},
   "outputs": [],
   "source": [
    "import numpy as np"
   ]
  },
  {
   "cell_type": "code",
   "execution_count": null,
   "id": "a68fc8ac-58bc-407c-b1e7-6bde9ce66b9d",
   "metadata": {},
   "outputs": [],
   "source": [
    "fig=plt.figure(figsize=(10,6))\n",
    "sns.boxplot(data=pop_2020_1)"
   ]
  },
  {
   "cell_type": "code",
   "execution_count": null,
   "id": "9d7b3622-9d30-4ed4-8868-7701ae534afd",
   "metadata": {},
   "outputs": [],
   "source": [
    "type(delete_pop)"
   ]
  },
  {
   "cell_type": "code",
   "execution_count": null,
   "id": "30bfaa68-a92b-4f95-851e-1a0219c61f60",
   "metadata": {},
   "outputs": [],
   "source": [
    "pop_2020_1.iloc[[13,18,  77,  82, 141, 146, 205, 210],3]#,  ]"
   ]
  },
  {
   "cell_type": "code",
   "execution_count": null,
   "id": "0c05eff8-869d-4805-a4ac-22476fd0bc6d",
   "metadata": {},
   "outputs": [],
   "source": [
    "a=pop[(pop['year']==2020) & (pop['id']==1)]"
   ]
  },
  {
   "cell_type": "code",
   "execution_count": null,
   "id": "06922487-c4da-4ef8-b614-48601693d9c9",
   "metadata": {},
   "outputs": [],
   "source": [
    "a= outliers_iqr(pop[(pop['year']==2020) & (pop['id']==1)]['pop'])"
   ]
  },
  {
   "cell_type": "code",
   "execution_count": null,
   "id": "37701f1d-f3db-4566-8ddc-2e39bd24d55e",
   "metadata": {},
   "outputs": [],
   "source": [
    "a[0]"
   ]
  },
  {
   "cell_type": "code",
   "execution_count": null,
   "id": "d2ba1a52-a0e3-4889-92b9-6157120df4a2",
   "metadata": {},
   "outputs": [],
   "source": [
    "pop[pop['year']==2020].index"
   ]
  },
  {
   "cell_type": "code",
   "execution_count": null,
   "id": "973d4cb3-1720-403b-a704-a993c6b5d745",
   "metadata": {},
   "outputs": [],
   "source": [
    "# i=[]\n",
    "for i in pop['id']:\n",
    "#     print(i)\n",
    "    globals()['pop' + str(i)] = i\n",
    "#     print(pop1 + pop2)\n",
    "# test2"
   ]
  },
  {
   "cell_type": "code",
   "execution_count": null,
   "id": "4900fd49-cf10-4839-9856-e911fb0f0353",
   "metadata": {},
   "outputs": [],
   "source": [
    "# import pymysql.cursors # Connect to the database\n",
    "\n",
    "# connection = pymysql.connect(host='localhost',\n",
    "#         user='root',\n",
    "#         password='1234',\n",
    "#         db='classicmodels',\n",
    "#         charset='utf8',\n",
    "#         cursorclass=pymysql.cursors.DictCursor)"
   ]
  }
 ],
 "metadata": {
  "kernelspec": {
   "display_name": "Python Multi",
   "language": "python",
   "name": "multi"
  },
  "language_info": {
   "codemirror_mode": {
    "name": "ipython",
    "version": 3
   },
   "file_extension": ".py",
   "mimetype": "text/x-python",
   "name": "python",
   "nbconvert_exporter": "python",
   "pygments_lexer": "ipython3",
   "version": "3.7.6"
  }
 },
 "nbformat": 4,
 "nbformat_minor": 5
}

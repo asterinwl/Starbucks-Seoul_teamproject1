{
 "cells": [
  {
   "cell_type": "code",
   "execution_count": 22,
   "id": "local-motel",
   "metadata": {},
   "outputs": [
    {
     "name": "stdout",
     "output_type": "stream",
     "text": [
      "C:\\Users\\admin\\Desktop\\point\\model\n"
     ]
    }
   ],
   "source": [
    "!cd"
   ]
  },
  {
   "cell_type": "code",
   "execution_count": 23,
   "id": "romantic-period",
   "metadata": {},
   "outputs": [],
   "source": [
    "import pymysql.cursors\n",
    "# Connect to the database"
   ]
  },
  {
   "cell_type": "code",
   "execution_count": 24,
   "id": "rough-monte",
   "metadata": {},
   "outputs": [],
   "source": [
    "import pandas as pd"
   ]
  },
  {
   "cell_type": "code",
   "execution_count": 25,
   "id": "276d6289-9fdf-4bdf-95b1-aaa84ced935c",
   "metadata": {},
   "outputs": [],
   "source": [
    "import pandas_profiling"
   ]
  },
  {
   "cell_type": "code",
   "execution_count": 26,
   "id": "39320fe1-618b-4ea6-9b6e-172ae3d4e36d",
   "metadata": {},
   "outputs": [],
   "source": [
    "df = pd.read_csv('total.csv',encoding='ansi')"
   ]
  },
  {
   "cell_type": "code",
   "execution_count": 27,
   "id": "b6a622a5-ddd3-4a7c-b4a6-9d684a7081cb",
   "metadata": {},
   "outputs": [
    {
     "data": {
      "text/html": [
       "<div>\n",
       "<style scoped>\n",
       "    .dataframe tbody tr th:only-of-type {\n",
       "        vertical-align: middle;\n",
       "    }\n",
       "\n",
       "    .dataframe tbody tr th {\n",
       "        vertical-align: top;\n",
       "    }\n",
       "\n",
       "    .dataframe thead th {\n",
       "        text-align: right;\n",
       "    }\n",
       "</style>\n",
       "<table border=\"1\" class=\"dataframe\">\n",
       "  <thead>\n",
       "    <tr style=\"text-align: right;\">\n",
       "      <th></th>\n",
       "      <th>id_apart</th>\n",
       "      <th>id_gu</th>\n",
       "      <th>전용면적_median</th>\n",
       "      <th>전용면적_max</th>\n",
       "      <th>전용면적_min</th>\n",
       "      <th>전용면적_mean</th>\n",
       "      <th>거래금액_median</th>\n",
       "      <th>거래금액_max</th>\n",
       "      <th>거래금액_min</th>\n",
       "      <th>거래금액_mean</th>\n",
       "      <th>...</th>\n",
       "      <th>면적금액_max</th>\n",
       "      <th>면적금액_min</th>\n",
       "      <th>면적금액_mean</th>\n",
       "      <th>pop_median</th>\n",
       "      <th>pop_max</th>\n",
       "      <th>pop_min</th>\n",
       "      <th>pop_mean</th>\n",
       "      <th>park</th>\n",
       "      <th>star</th>\n",
       "      <th>year</th>\n",
       "    </tr>\n",
       "  </thead>\n",
       "  <tbody>\n",
       "    <tr>\n",
       "      <th>count</th>\n",
       "      <td>75.000000</td>\n",
       "      <td>75.000000</td>\n",
       "      <td>75.000000</td>\n",
       "      <td>75.00000</td>\n",
       "      <td>75.000000</td>\n",
       "      <td>75.000000</td>\n",
       "      <td>75.000000</td>\n",
       "      <td>75.000000</td>\n",
       "      <td>75.000000</td>\n",
       "      <td>75.000000</td>\n",
       "      <td>...</td>\n",
       "      <td>75.000000</td>\n",
       "      <td>75.000000</td>\n",
       "      <td>75.000000</td>\n",
       "      <td>7.500000e+01</td>\n",
       "      <td>7.500000e+01</td>\n",
       "      <td>7.500000e+01</td>\n",
       "      <td>7.500000e+01</td>\n",
       "      <td>75.000000</td>\n",
       "      <td>75.000000</td>\n",
       "      <td>75.000000</td>\n",
       "    </tr>\n",
       "    <tr>\n",
       "      <th>mean</th>\n",
       "      <td>38.000000</td>\n",
       "      <td>13.000000</td>\n",
       "      <td>80.525291</td>\n",
       "      <td>225.00104</td>\n",
       "      <td>12.937257</td>\n",
       "      <td>79.285505</td>\n",
       "      <td>74838.666667</td>\n",
       "      <td>269696.666667</td>\n",
       "      <td>10245.453333</td>\n",
       "      <td>78993.140527</td>\n",
       "      <td>...</td>\n",
       "      <td>2360.826667</td>\n",
       "      <td>278.466667</td>\n",
       "      <td>994.982360</td>\n",
       "      <td>3.554551e+06</td>\n",
       "      <td>6.905653e+06</td>\n",
       "      <td>1.156711e+06</td>\n",
       "      <td>3.609580e+06</td>\n",
       "      <td>5.346667</td>\n",
       "      <td>19.773333</td>\n",
       "      <td>2019.000000</td>\n",
       "    </tr>\n",
       "    <tr>\n",
       "      <th>std</th>\n",
       "      <td>21.794495</td>\n",
       "      <td>7.259663</td>\n",
       "      <td>7.132165</td>\n",
       "      <td>42.77478</td>\n",
       "      <td>1.446692</td>\n",
       "      <td>8.780590</td>\n",
       "      <td>33747.480960</td>\n",
       "      <td>188675.638714</td>\n",
       "      <td>2996.898430</td>\n",
       "      <td>36769.866893</td>\n",
       "      <td>...</td>\n",
       "      <td>1148.402949</td>\n",
       "      <td>78.680561</td>\n",
       "      <td>361.972413</td>\n",
       "      <td>1.663057e+06</td>\n",
       "      <td>3.104943e+06</td>\n",
       "      <td>1.047658e+06</td>\n",
       "      <td>1.657124e+06</td>\n",
       "      <td>3.020172</td>\n",
       "      <td>17.694535</td>\n",
       "      <td>0.821995</td>\n",
       "    </tr>\n",
       "    <tr>\n",
       "      <th>min</th>\n",
       "      <td>1.000000</td>\n",
       "      <td>1.000000</td>\n",
       "      <td>59.240000</td>\n",
       "      <td>150.72000</td>\n",
       "      <td>10.020000</td>\n",
       "      <td>63.193554</td>\n",
       "      <td>33400.000000</td>\n",
       "      <td>88000.000000</td>\n",
       "      <td>5400.000000</td>\n",
       "      <td>35758.010210</td>\n",
       "      <td>...</td>\n",
       "      <td>990.000000</td>\n",
       "      <td>143.000000</td>\n",
       "      <td>504.358693</td>\n",
       "      <td>9.775680e+05</td>\n",
       "      <td>1.731610e+06</td>\n",
       "      <td>1.842200e+04</td>\n",
       "      <td>9.179010e+05</td>\n",
       "      <td>0.000000</td>\n",
       "      <td>1.000000</td>\n",
       "      <td>2018.000000</td>\n",
       "    </tr>\n",
       "    <tr>\n",
       "      <th>25%</th>\n",
       "      <td>19.500000</td>\n",
       "      <td>7.000000</td>\n",
       "      <td>79.250000</td>\n",
       "      <td>196.00500</td>\n",
       "      <td>12.085000</td>\n",
       "      <td>73.790928</td>\n",
       "      <td>49750.000000</td>\n",
       "      <td>138000.000000</td>\n",
       "      <td>8093.000000</td>\n",
       "      <td>51606.146210</td>\n",
       "      <td>...</td>\n",
       "      <td>1587.500000</td>\n",
       "      <td>217.000000</td>\n",
       "      <td>729.301136</td>\n",
       "      <td>1.670642e+06</td>\n",
       "      <td>4.223190e+06</td>\n",
       "      <td>4.458230e+05</td>\n",
       "      <td>1.787526e+06</td>\n",
       "      <td>4.000000</td>\n",
       "      <td>9.000000</td>\n",
       "      <td>2018.000000</td>\n",
       "    </tr>\n",
       "    <tr>\n",
       "      <th>50%</th>\n",
       "      <td>38.000000</td>\n",
       "      <td>13.000000</td>\n",
       "      <td>84.290000</td>\n",
       "      <td>234.02000</td>\n",
       "      <td>12.600000</td>\n",
       "      <td>77.736336</td>\n",
       "      <td>68200.000000</td>\n",
       "      <td>176000.000000</td>\n",
       "      <td>9000.000000</td>\n",
       "      <td>68710.921310</td>\n",
       "      <td>...</td>\n",
       "      <td>2005.000000</td>\n",
       "      <td>276.000000</td>\n",
       "      <td>914.518238</td>\n",
       "      <td>3.913378e+06</td>\n",
       "      <td>7.111269e+06</td>\n",
       "      <td>8.385440e+05</td>\n",
       "      <td>4.073517e+06</td>\n",
       "      <td>5.000000</td>\n",
       "      <td>13.000000</td>\n",
       "      <td>2019.000000</td>\n",
       "    </tr>\n",
       "    <tr>\n",
       "      <th>75%</th>\n",
       "      <td>56.500000</td>\n",
       "      <td>19.000000</td>\n",
       "      <td>84.720000</td>\n",
       "      <td>244.86350</td>\n",
       "      <td>13.250000</td>\n",
       "      <td>82.406710</td>\n",
       "      <td>86500.000000</td>\n",
       "      <td>322750.000000</td>\n",
       "      <td>12025.000000</td>\n",
       "      <td>92019.469630</td>\n",
       "      <td>...</td>\n",
       "      <td>2715.500000</td>\n",
       "      <td>326.500000</td>\n",
       "      <td>1175.010382</td>\n",
       "      <td>4.763592e+06</td>\n",
       "      <td>8.461600e+06</td>\n",
       "      <td>1.715046e+06</td>\n",
       "      <td>4.869434e+06</td>\n",
       "      <td>7.000000</td>\n",
       "      <td>28.000000</td>\n",
       "      <td>2020.000000</td>\n",
       "    </tr>\n",
       "    <tr>\n",
       "      <th>max</th>\n",
       "      <td>75.000000</td>\n",
       "      <td>25.000000</td>\n",
       "      <td>89.820000</td>\n",
       "      <td>395.06000</td>\n",
       "      <td>18.530000</td>\n",
       "      <td>107.543401</td>\n",
       "      <td>172500.000000</td>\n",
       "      <td>840000.000000</td>\n",
       "      <td>18000.000000</td>\n",
       "      <td>180834.208100</td>\n",
       "      <td>...</td>\n",
       "      <td>6970.000000</td>\n",
       "      <td>479.000000</td>\n",
       "      <td>2086.260052</td>\n",
       "      <td>6.518878e+06</td>\n",
       "      <td>1.923735e+07</td>\n",
       "      <td>6.002480e+06</td>\n",
       "      <td>7.078998e+06</td>\n",
       "      <td>16.000000</td>\n",
       "      <td>87.000000</td>\n",
       "      <td>2020.000000</td>\n",
       "    </tr>\n",
       "  </tbody>\n",
       "</table>\n",
       "<p>8 rows × 21 columns</p>\n",
       "</div>"
      ],
      "text/plain": [
       "        id_apart      id_gu  전용면적_median   전용면적_max   전용면적_min   전용면적_mean  \\\n",
       "count  75.000000  75.000000    75.000000   75.00000  75.000000   75.000000   \n",
       "mean   38.000000  13.000000    80.525291  225.00104  12.937257   79.285505   \n",
       "std    21.794495   7.259663     7.132165   42.77478   1.446692    8.780590   \n",
       "min     1.000000   1.000000    59.240000  150.72000  10.020000   63.193554   \n",
       "25%    19.500000   7.000000    79.250000  196.00500  12.085000   73.790928   \n",
       "50%    38.000000  13.000000    84.290000  234.02000  12.600000   77.736336   \n",
       "75%    56.500000  19.000000    84.720000  244.86350  13.250000   82.406710   \n",
       "max    75.000000  25.000000    89.820000  395.06000  18.530000  107.543401   \n",
       "\n",
       "         거래금액_median       거래금액_max      거래금액_min      거래금액_mean  ...  \\\n",
       "count      75.000000      75.000000     75.000000      75.000000  ...   \n",
       "mean    74838.666667  269696.666667  10245.453333   78993.140527  ...   \n",
       "std     33747.480960  188675.638714   2996.898430   36769.866893  ...   \n",
       "min     33400.000000   88000.000000   5400.000000   35758.010210  ...   \n",
       "25%     49750.000000  138000.000000   8093.000000   51606.146210  ...   \n",
       "50%     68200.000000  176000.000000   9000.000000   68710.921310  ...   \n",
       "75%     86500.000000  322750.000000  12025.000000   92019.469630  ...   \n",
       "max    172500.000000  840000.000000  18000.000000  180834.208100  ...   \n",
       "\n",
       "          면적금액_max    면적금액_min    면적금액_mean    pop_median       pop_max  \\\n",
       "count    75.000000   75.000000    75.000000  7.500000e+01  7.500000e+01   \n",
       "mean   2360.826667  278.466667   994.982360  3.554551e+06  6.905653e+06   \n",
       "std    1148.402949   78.680561   361.972413  1.663057e+06  3.104943e+06   \n",
       "min     990.000000  143.000000   504.358693  9.775680e+05  1.731610e+06   \n",
       "25%    1587.500000  217.000000   729.301136  1.670642e+06  4.223190e+06   \n",
       "50%    2005.000000  276.000000   914.518238  3.913378e+06  7.111269e+06   \n",
       "75%    2715.500000  326.500000  1175.010382  4.763592e+06  8.461600e+06   \n",
       "max    6970.000000  479.000000  2086.260052  6.518878e+06  1.923735e+07   \n",
       "\n",
       "            pop_min      pop_mean       park       star         year  \n",
       "count  7.500000e+01  7.500000e+01  75.000000  75.000000    75.000000  \n",
       "mean   1.156711e+06  3.609580e+06   5.346667  19.773333  2019.000000  \n",
       "std    1.047658e+06  1.657124e+06   3.020172  17.694535     0.821995  \n",
       "min    1.842200e+04  9.179010e+05   0.000000   1.000000  2018.000000  \n",
       "25%    4.458230e+05  1.787526e+06   4.000000   9.000000  2018.000000  \n",
       "50%    8.385440e+05  4.073517e+06   5.000000  13.000000  2019.000000  \n",
       "75%    1.715046e+06  4.869434e+06   7.000000  28.000000  2020.000000  \n",
       "max    6.002480e+06  7.078998e+06  16.000000  87.000000  2020.000000  \n",
       "\n",
       "[8 rows x 21 columns]"
      ]
     },
     "execution_count": 27,
     "metadata": {},
     "output_type": "execute_result"
    }
   ],
   "source": [
    "df.describe()"
   ]
  },
  {
   "cell_type": "code",
   "execution_count": 28,
   "id": "88da2531-4b1f-4c8a-8335-19625e505144",
   "metadata": {},
   "outputs": [
    {
     "data": {
      "text/plain": [
       "Index(['id_apart', 'id_gu', '전용면적_median', '전용면적_max', '전용면적_min', '전용면적_mean',\n",
       "       '거래금액_median', '거래금액_max', '거래금액_min', '거래금액_mean', '면적금액_median',\n",
       "       '면적금액_max', '면적금액_min', '면적금액_mean', 'pop_median', 'pop_max', 'pop_min',\n",
       "       'pop_mean', 'park', 'star', 'year'],\n",
       "      dtype='object')"
      ]
     },
     "execution_count": 28,
     "metadata": {},
     "output_type": "execute_result"
    }
   ],
   "source": [
    "df.columns"
   ]
  },
  {
   "cell_type": "code",
   "execution_count": 29,
   "id": "339c209c-efb0-4625-a96a-e98256490682",
   "metadata": {},
   "outputs": [
    {
     "data": {
      "text/plain": [
       "pandas.core.frame.DataFrame"
      ]
     },
     "execution_count": 29,
     "metadata": {},
     "output_type": "execute_result"
    }
   ],
   "source": [
    "type(df)"
   ]
  },
  {
   "cell_type": "code",
   "execution_count": 30,
   "id": "afb753d1-c0b0-4a26-a327-f041ffaf9a6a",
   "metadata": {},
   "outputs": [],
   "source": [
    "import numpy as np\n",
    "from sklearn.impute import SimpleImputer"
   ]
  },
  {
   "cell_type": "code",
   "execution_count": 31,
   "id": "40e333c8-e098-4b31-8223-768206129027",
   "metadata": {},
   "outputs": [],
   "source": [
    "data=df.values           #data frame -> array로 바꾸기"
   ]
  },
  {
   "cell_type": "code",
   "execution_count": 32,
   "id": "6dc7820d-79ef-457a-9abc-7efab11fad77",
   "metadata": {},
   "outputs": [],
   "source": [
    "y=df['park']    #구하고자 하는 값"
   ]
  },
  {
   "cell_type": "code",
   "execution_count": 33,
   "id": "bace2ff0-7691-4762-a732-5c46171d3038",
   "metadata": {},
   "outputs": [],
   "source": [
    "X=df.drop('park',axis=1) #구하고자 하는 값 제외한 것은 모두 넣고 비교"
   ]
  },
  {
   "cell_type": "code",
   "execution_count": 34,
   "id": "78513b9b-12a8-45c2-a51e-844dc00d2405",
   "metadata": {},
   "outputs": [
    {
     "data": {
      "text/html": [
       "<div>\n",
       "<style scoped>\n",
       "    .dataframe tbody tr th:only-of-type {\n",
       "        vertical-align: middle;\n",
       "    }\n",
       "\n",
       "    .dataframe tbody tr th {\n",
       "        vertical-align: top;\n",
       "    }\n",
       "\n",
       "    .dataframe thead th {\n",
       "        text-align: right;\n",
       "    }\n",
       "</style>\n",
       "<table border=\"1\" class=\"dataframe\">\n",
       "  <thead>\n",
       "    <tr style=\"text-align: right;\">\n",
       "      <th></th>\n",
       "      <th>id_apart</th>\n",
       "      <th>id_gu</th>\n",
       "      <th>전용면적_median</th>\n",
       "      <th>전용면적_max</th>\n",
       "      <th>전용면적_min</th>\n",
       "      <th>전용면적_mean</th>\n",
       "      <th>거래금액_median</th>\n",
       "      <th>거래금액_max</th>\n",
       "      <th>거래금액_min</th>\n",
       "      <th>거래금액_mean</th>\n",
       "      <th>면적금액_median</th>\n",
       "      <th>면적금액_max</th>\n",
       "      <th>면적금액_min</th>\n",
       "      <th>면적금액_mean</th>\n",
       "      <th>pop_median</th>\n",
       "      <th>pop_max</th>\n",
       "      <th>pop_min</th>\n",
       "      <th>pop_mean</th>\n",
       "      <th>star</th>\n",
       "      <th>year</th>\n",
       "    </tr>\n",
       "  </thead>\n",
       "  <tbody>\n",
       "    <tr>\n",
       "      <th>count</th>\n",
       "      <td>75.000000</td>\n",
       "      <td>75.000000</td>\n",
       "      <td>75.000000</td>\n",
       "      <td>75.00000</td>\n",
       "      <td>75.000000</td>\n",
       "      <td>75.000000</td>\n",
       "      <td>75.000000</td>\n",
       "      <td>75.000000</td>\n",
       "      <td>75.000000</td>\n",
       "      <td>75.000000</td>\n",
       "      <td>75.000000</td>\n",
       "      <td>75.000000</td>\n",
       "      <td>75.000000</td>\n",
       "      <td>75.000000</td>\n",
       "      <td>7.500000e+01</td>\n",
       "      <td>7.500000e+01</td>\n",
       "      <td>7.500000e+01</td>\n",
       "      <td>7.500000e+01</td>\n",
       "      <td>75.000000</td>\n",
       "      <td>75.000000</td>\n",
       "    </tr>\n",
       "    <tr>\n",
       "      <th>mean</th>\n",
       "      <td>38.000000</td>\n",
       "      <td>13.000000</td>\n",
       "      <td>80.525291</td>\n",
       "      <td>225.00104</td>\n",
       "      <td>12.937257</td>\n",
       "      <td>79.285505</td>\n",
       "      <td>74838.666667</td>\n",
       "      <td>269696.666667</td>\n",
       "      <td>10245.453333</td>\n",
       "      <td>78993.140527</td>\n",
       "      <td>954.833333</td>\n",
       "      <td>2360.826667</td>\n",
       "      <td>278.466667</td>\n",
       "      <td>994.982360</td>\n",
       "      <td>3.554551e+06</td>\n",
       "      <td>6.905653e+06</td>\n",
       "      <td>1.156711e+06</td>\n",
       "      <td>3.609580e+06</td>\n",
       "      <td>19.773333</td>\n",
       "      <td>2019.000000</td>\n",
       "    </tr>\n",
       "    <tr>\n",
       "      <th>std</th>\n",
       "      <td>21.794495</td>\n",
       "      <td>7.259663</td>\n",
       "      <td>7.132165</td>\n",
       "      <td>42.77478</td>\n",
       "      <td>1.446692</td>\n",
       "      <td>8.780590</td>\n",
       "      <td>33747.480960</td>\n",
       "      <td>188675.638714</td>\n",
       "      <td>2996.898430</td>\n",
       "      <td>36769.866893</td>\n",
       "      <td>350.782237</td>\n",
       "      <td>1148.402949</td>\n",
       "      <td>78.680561</td>\n",
       "      <td>361.972413</td>\n",
       "      <td>1.663057e+06</td>\n",
       "      <td>3.104943e+06</td>\n",
       "      <td>1.047658e+06</td>\n",
       "      <td>1.657124e+06</td>\n",
       "      <td>17.694535</td>\n",
       "      <td>0.821995</td>\n",
       "    </tr>\n",
       "    <tr>\n",
       "      <th>min</th>\n",
       "      <td>1.000000</td>\n",
       "      <td>1.000000</td>\n",
       "      <td>59.240000</td>\n",
       "      <td>150.72000</td>\n",
       "      <td>10.020000</td>\n",
       "      <td>63.193554</td>\n",
       "      <td>33400.000000</td>\n",
       "      <td>88000.000000</td>\n",
       "      <td>5400.000000</td>\n",
       "      <td>35758.010210</td>\n",
       "      <td>475.000000</td>\n",
       "      <td>990.000000</td>\n",
       "      <td>143.000000</td>\n",
       "      <td>504.358693</td>\n",
       "      <td>9.775680e+05</td>\n",
       "      <td>1.731610e+06</td>\n",
       "      <td>1.842200e+04</td>\n",
       "      <td>9.179010e+05</td>\n",
       "      <td>1.000000</td>\n",
       "      <td>2018.000000</td>\n",
       "    </tr>\n",
       "    <tr>\n",
       "      <th>25%</th>\n",
       "      <td>19.500000</td>\n",
       "      <td>7.000000</td>\n",
       "      <td>79.250000</td>\n",
       "      <td>196.00500</td>\n",
       "      <td>12.085000</td>\n",
       "      <td>73.790928</td>\n",
       "      <td>49750.000000</td>\n",
       "      <td>138000.000000</td>\n",
       "      <td>8093.000000</td>\n",
       "      <td>51606.146210</td>\n",
       "      <td>699.500000</td>\n",
       "      <td>1587.500000</td>\n",
       "      <td>217.000000</td>\n",
       "      <td>729.301136</td>\n",
       "      <td>1.670642e+06</td>\n",
       "      <td>4.223190e+06</td>\n",
       "      <td>4.458230e+05</td>\n",
       "      <td>1.787526e+06</td>\n",
       "      <td>9.000000</td>\n",
       "      <td>2018.000000</td>\n",
       "    </tr>\n",
       "    <tr>\n",
       "      <th>50%</th>\n",
       "      <td>38.000000</td>\n",
       "      <td>13.000000</td>\n",
       "      <td>84.290000</td>\n",
       "      <td>234.02000</td>\n",
       "      <td>12.600000</td>\n",
       "      <td>77.736336</td>\n",
       "      <td>68200.000000</td>\n",
       "      <td>176000.000000</td>\n",
       "      <td>9000.000000</td>\n",
       "      <td>68710.921310</td>\n",
       "      <td>884.000000</td>\n",
       "      <td>2005.000000</td>\n",
       "      <td>276.000000</td>\n",
       "      <td>914.518238</td>\n",
       "      <td>3.913378e+06</td>\n",
       "      <td>7.111269e+06</td>\n",
       "      <td>8.385440e+05</td>\n",
       "      <td>4.073517e+06</td>\n",
       "      <td>13.000000</td>\n",
       "      <td>2019.000000</td>\n",
       "    </tr>\n",
       "    <tr>\n",
       "      <th>75%</th>\n",
       "      <td>56.500000</td>\n",
       "      <td>19.000000</td>\n",
       "      <td>84.720000</td>\n",
       "      <td>244.86350</td>\n",
       "      <td>13.250000</td>\n",
       "      <td>82.406710</td>\n",
       "      <td>86500.000000</td>\n",
       "      <td>322750.000000</td>\n",
       "      <td>12025.000000</td>\n",
       "      <td>92019.469630</td>\n",
       "      <td>1119.500000</td>\n",
       "      <td>2715.500000</td>\n",
       "      <td>326.500000</td>\n",
       "      <td>1175.010382</td>\n",
       "      <td>4.763592e+06</td>\n",
       "      <td>8.461600e+06</td>\n",
       "      <td>1.715046e+06</td>\n",
       "      <td>4.869434e+06</td>\n",
       "      <td>28.000000</td>\n",
       "      <td>2020.000000</td>\n",
       "    </tr>\n",
       "    <tr>\n",
       "      <th>max</th>\n",
       "      <td>75.000000</td>\n",
       "      <td>25.000000</td>\n",
       "      <td>89.820000</td>\n",
       "      <td>395.06000</td>\n",
       "      <td>18.530000</td>\n",
       "      <td>107.543401</td>\n",
       "      <td>172500.000000</td>\n",
       "      <td>840000.000000</td>\n",
       "      <td>18000.000000</td>\n",
       "      <td>180834.208100</td>\n",
       "      <td>2146.000000</td>\n",
       "      <td>6970.000000</td>\n",
       "      <td>479.000000</td>\n",
       "      <td>2086.260052</td>\n",
       "      <td>6.518878e+06</td>\n",
       "      <td>1.923735e+07</td>\n",
       "      <td>6.002480e+06</td>\n",
       "      <td>7.078998e+06</td>\n",
       "      <td>87.000000</td>\n",
       "      <td>2020.000000</td>\n",
       "    </tr>\n",
       "  </tbody>\n",
       "</table>\n",
       "</div>"
      ],
      "text/plain": [
       "        id_apart      id_gu  전용면적_median   전용면적_max   전용면적_min   전용면적_mean  \\\n",
       "count  75.000000  75.000000    75.000000   75.00000  75.000000   75.000000   \n",
       "mean   38.000000  13.000000    80.525291  225.00104  12.937257   79.285505   \n",
       "std    21.794495   7.259663     7.132165   42.77478   1.446692    8.780590   \n",
       "min     1.000000   1.000000    59.240000  150.72000  10.020000   63.193554   \n",
       "25%    19.500000   7.000000    79.250000  196.00500  12.085000   73.790928   \n",
       "50%    38.000000  13.000000    84.290000  234.02000  12.600000   77.736336   \n",
       "75%    56.500000  19.000000    84.720000  244.86350  13.250000   82.406710   \n",
       "max    75.000000  25.000000    89.820000  395.06000  18.530000  107.543401   \n",
       "\n",
       "         거래금액_median       거래금액_max      거래금액_min      거래금액_mean  면적금액_median  \\\n",
       "count      75.000000      75.000000     75.000000      75.000000    75.000000   \n",
       "mean    74838.666667  269696.666667  10245.453333   78993.140527   954.833333   \n",
       "std     33747.480960  188675.638714   2996.898430   36769.866893   350.782237   \n",
       "min     33400.000000   88000.000000   5400.000000   35758.010210   475.000000   \n",
       "25%     49750.000000  138000.000000   8093.000000   51606.146210   699.500000   \n",
       "50%     68200.000000  176000.000000   9000.000000   68710.921310   884.000000   \n",
       "75%     86500.000000  322750.000000  12025.000000   92019.469630  1119.500000   \n",
       "max    172500.000000  840000.000000  18000.000000  180834.208100  2146.000000   \n",
       "\n",
       "          면적금액_max    면적금액_min    면적금액_mean    pop_median       pop_max  \\\n",
       "count    75.000000   75.000000    75.000000  7.500000e+01  7.500000e+01   \n",
       "mean   2360.826667  278.466667   994.982360  3.554551e+06  6.905653e+06   \n",
       "std    1148.402949   78.680561   361.972413  1.663057e+06  3.104943e+06   \n",
       "min     990.000000  143.000000   504.358693  9.775680e+05  1.731610e+06   \n",
       "25%    1587.500000  217.000000   729.301136  1.670642e+06  4.223190e+06   \n",
       "50%    2005.000000  276.000000   914.518238  3.913378e+06  7.111269e+06   \n",
       "75%    2715.500000  326.500000  1175.010382  4.763592e+06  8.461600e+06   \n",
       "max    6970.000000  479.000000  2086.260052  6.518878e+06  1.923735e+07   \n",
       "\n",
       "            pop_min      pop_mean       star         year  \n",
       "count  7.500000e+01  7.500000e+01  75.000000    75.000000  \n",
       "mean   1.156711e+06  3.609580e+06  19.773333  2019.000000  \n",
       "std    1.047658e+06  1.657124e+06  17.694535     0.821995  \n",
       "min    1.842200e+04  9.179010e+05   1.000000  2018.000000  \n",
       "25%    4.458230e+05  1.787526e+06   9.000000  2018.000000  \n",
       "50%    8.385440e+05  4.073517e+06  13.000000  2019.000000  \n",
       "75%    1.715046e+06  4.869434e+06  28.000000  2020.000000  \n",
       "max    6.002480e+06  7.078998e+06  87.000000  2020.000000  "
      ]
     },
     "execution_count": 34,
     "metadata": {},
     "output_type": "execute_result"
    }
   ],
   "source": [
    "X.describe()"
   ]
  },
  {
   "cell_type": "code",
   "execution_count": 35,
   "id": "80f2c1b5-61dd-415f-9ef7-2f967479f87b",
   "metadata": {},
   "outputs": [
    {
     "data": {
      "text/plain": [
       "count    75.000000\n",
       "mean      5.346667\n",
       "std       3.020172\n",
       "min       0.000000\n",
       "25%       4.000000\n",
       "50%       5.000000\n",
       "75%       7.000000\n",
       "max      16.000000\n",
       "Name: park, dtype: float64"
      ]
     },
     "execution_count": 35,
     "metadata": {},
     "output_type": "execute_result"
    }
   ],
   "source": [
    "y.describe()"
   ]
  },
  {
   "cell_type": "code",
   "execution_count": 36,
   "id": "adc08d04-c2b9-43a9-ba40-56e48681895d",
   "metadata": {},
   "outputs": [],
   "source": [
    "data=X.values"
   ]
  },
  {
   "cell_type": "code",
   "execution_count": 37,
   "id": "44256b4f-1678-40f8-a087-fdd09c5adf0f",
   "metadata": {},
   "outputs": [],
   "source": [
    "y=y.values"
   ]
  },
  {
   "cell_type": "code",
   "execution_count": 38,
   "id": "ddfadfeb-5a25-4d9f-8d90-17c524179373",
   "metadata": {},
   "outputs": [
    {
     "data": {
      "text/plain": [
       "array([[1.000000e+00, 1.000000e+00, 8.490000e+01, ..., 1.623862e+06,\n",
       "        7.200000e+01, 2.018000e+03],\n",
       "       [2.000000e+00, 2.000000e+00, 8.423000e+01, ..., 2.108660e+06,\n",
       "        1.000000e+01, 2.018000e+03],\n",
       "       [3.000000e+00, 3.000000e+00, 8.470500e+01, ..., 1.254046e+06,\n",
       "        5.000000e+00, 2.018000e+03],\n",
       "       ...,\n",
       "       [7.300000e+01, 2.300000e+01, 8.085000e+01, ..., 3.013604e+06,\n",
       "        3.100000e+01, 2.020000e+03],\n",
       "       [7.400000e+01, 2.400000e+01, 8.488000e+01, ..., 4.031902e+06,\n",
       "        4.800000e+01, 2.020000e+03],\n",
       "       [7.500000e+01, 2.500000e+01, 6.625400e+01, ..., 5.710217e+06,\n",
       "        7.000000e+00, 2.020000e+03]])"
      ]
     },
     "execution_count": 38,
     "metadata": {},
     "output_type": "execute_result"
    }
   ],
   "source": [
    "data"
   ]
  },
  {
   "cell_type": "code",
   "execution_count": 39,
   "id": "c9d7e69f-d961-4e18-8097-c30f6586fbfa",
   "metadata": {},
   "outputs": [
    {
     "data": {
      "text/plain": [
       "(75, 20)"
      ]
     },
     "execution_count": 39,
     "metadata": {},
     "output_type": "execute_result"
    }
   ],
   "source": [
    "data.shape"
   ]
  },
  {
   "cell_type": "code",
   "execution_count": 45,
   "id": "64a6ae60-c0e8-4713-b6da-6931ec195293",
   "metadata": {},
   "outputs": [],
   "source": [
    "df_trans=pd.DataFrame(data)"
   ]
  },
  {
   "cell_type": "markdown",
   "id": "b15e83d8-1d45-474a-802a-e6750eaba8c2",
   "metadata": {},
   "source": [
    "# 시작"
   ]
  },
  {
   "cell_type": "markdown",
   "id": "a8993a1c-7bd7-4428-aca3-6885b70d21e3",
   "metadata": {},
   "source": [
    "### Scaling Standardization\n",
    "### RFE"
   ]
  },
  {
   "cell_type": "code",
   "execution_count": 46,
   "id": "2f1ef938-0564-401c-9bcd-7fa5114b2a0a",
   "metadata": {},
   "outputs": [],
   "source": [
    "from sklearn.feature_selection import RFE\n",
    "#from sklearn.tree import DecisionTreeClassifier"
   ]
  },
  {
   "cell_type": "code",
   "execution_count": 47,
   "id": "b6d1316a-2f43-42b0-b54a-8cffb8a62ece",
   "metadata": {},
   "outputs": [],
   "source": [
    "from sklearn.preprocessing import StandardScaler"
   ]
  },
  {
   "cell_type": "code",
   "execution_count": 48,
   "id": "9def8bca-3005-4a83-a736-8768de3218bf",
   "metadata": {},
   "outputs": [],
   "source": [
    "sc = StandardScaler()"
   ]
  },
  {
   "cell_type": "code",
   "execution_count": 49,
   "id": "c709b63c-4a5e-4818-8a75-a8ab682d4960",
   "metadata": {},
   "outputs": [],
   "source": [
    "data=df_trans.values"
   ]
  },
  {
   "cell_type": "code",
   "execution_count": null,
   "id": "47d277c6-ee63-437c-a333-f06a3cda1415",
   "metadata": {},
   "outputs": [],
   "source": [
    "data_sc=sc.fit_transform(data)"
   ]
  },
  {
   "cell_type": "code",
   "execution_count": null,
   "id": "ad24e2aa-61e4-40d3-b592-241b8fd2d89e",
   "metadata": {},
   "outputs": [],
   "source": [
    "data_sc"
   ]
  },
  {
   "cell_type": "code",
   "execution_count": null,
   "id": "9c35e170-05b6-455d-9837-8daf19382c3a",
   "metadata": {},
   "outputs": [],
   "source": [
    "df_sc=pd.DataFrame(data_sc,columns=['total_bill','sex','smoker','day','time','size','tip_rate'])"
   ]
  },
  {
   "cell_type": "code",
   "execution_count": null,
   "id": "5cdebc08-8fc4-4b00-aed0-c8d5a83e6f5f",
   "metadata": {},
   "outputs": [],
   "source": [
    "from sklearn.svm import SVR"
   ]
  },
  {
   "cell_type": "code",
   "execution_count": null,
   "id": "b3986af1-2b2f-413a-a4bc-c2478b83c456",
   "metadata": {},
   "outputs": [],
   "source": [
    "estimator=SVR(kernel=\"linear\")"
   ]
  },
  {
   "cell_type": "code",
   "execution_count": null,
   "id": "cd067035-3794-4501-82c6-f4df5d3eae7b",
   "metadata": {},
   "outputs": [],
   "source": [
    "# define RFE\n",
    "rfe = RFE(estimator, n_features_to_select=4) #변수 7개 중 4개 가지기"
   ]
  },
  {
   "cell_type": "code",
   "execution_count": null,
   "id": "52e417dd-8a0c-45b7-a492-5b9cb1b800e9",
   "metadata": {},
   "outputs": [],
   "source": [
    "y.shape"
   ]
  },
  {
   "cell_type": "code",
   "execution_count": null,
   "id": "9502c410-74a1-43e5-b382-882637e5f60a",
   "metadata": {},
   "outputs": [],
   "source": [
    "# fit RFE\n",
    "selecto=rfe.fit(data_sc, y)"
   ]
  },
  {
   "cell_type": "code",
   "execution_count": null,
   "id": "6e3a5dce-f3f1-45f9-9e45-c0c53bc68d3b",
   "metadata": {},
   "outputs": [],
   "source": [
    "selecto.support_"
   ]
  },
  {
   "cell_type": "code",
   "execution_count": null,
   "id": "9ecee7fb-7bbe-4b27-8f60-f4fd5cbe1967",
   "metadata": {},
   "outputs": [],
   "source": [
    "df_sc.head(3)   #1,2,3이 False 즉, sex와 smoker,day가 빠졌다."
   ]
  },
  {
   "cell_type": "code",
   "execution_count": null,
   "id": "4ca7d099-cc8e-4192-9dc4-275da0a34eb0",
   "metadata": {},
   "outputs": [],
   "source": [
    ",# summarize all features\n",
    "for i in range(df_sc.shape[1]):\n",
    "  print('Column: %d, Selected=%s, Rank: %d' % (i, rfe.support_[i], rfe.ranking_[i]))"
   ]
  },
  {
   "cell_type": "code",
   "execution_count": null,
   "id": "c0abe297-0c08-4cdf-a215-1c1a0e5f42fb",
   "metadata": {},
   "outputs": [],
   "source": [
    "rselecto= rfe.fit_transform(data_sc, y)"
   ]
  },
  {
   "cell_type": "code",
   "execution_count": null,
   "id": "f47c5e57-495e-4864-a401-b1907759934b",
   "metadata": {},
   "outputs": [],
   "source": [
    "Selecto=pd.DataFrame(rselecto)"
   ]
  },
  {
   "cell_type": "code",
   "execution_count": null,
   "id": "8a5d6588-2f3a-453d-be25-b03947cc250b",
   "metadata": {},
   "outputs": [],
   "source": [
    "Selecto.columns=['total_bill', 'time', 'size', 'tip_rate']"
   ]
  },
  {
   "cell_type": "code",
   "execution_count": null,
   "id": "585806d3-271e-4f37-b03f-dcf3c5fa1018",
   "metadata": {},
   "outputs": [],
   "source": [
    "Selecto.describe()"
   ]
  },
  {
   "cell_type": "code",
   "execution_count": null,
   "id": "94e441e5-2a48-4be1-b042-50ab4adf9b56",
   "metadata": {},
   "outputs": [],
   "source": [
    "X.describe()"
   ]
  },
  {
   "cell_type": "markdown",
   "id": "3cd722a3-0de1-498f-8d09-b270c5471608",
   "metadata": {},
   "source": [
    "###### Selecto.describe().round()을 Standard 하지 않은 X.describe()와 비교해보자."
   ]
  },
  {
   "cell_type": "code",
   "execution_count": null,
   "id": "e93e1bfe-855d-41be-9725-8486ecd2a5c8",
   "metadata": {},
   "outputs": [],
   "source": [
    "Selecto.profile_report()"
   ]
  },
  {
   "cell_type": "markdown",
   "id": "fb090a07-8d4f-465a-96c5-eee13dc98453",
   "metadata": {},
   "source": [
    "#### HW_with 의 RFE와 비교해보자. \n",
    "#### Standard 과정을 거치지 않은 python_db_Org의 RFE는 1,3,4이 False 즉 sex, day,time가 빠졌다. \n",
    "#### Standard 과정을 거친 python_db_Standardization은 1,2,3이 False 즉, sex와 smoker,day가 빠졌다.\n",
    "#### 참고로 Standard->RFE가 더 바람직하다."
   ]
  },
  {
   "cell_type": "markdown",
   "id": "5d777702-04b1-4d72-a7c3-1da17ddf08e0",
   "metadata": {},
   "source": [
    "## "
   ]
  },
  {
   "cell_type": "markdown",
   "id": "c8eba7ca-8914-4c6f-9f46-68a50daf5db3",
   "metadata": {},
   "source": [
    "### Scaling Normalization\n",
    "### RFE"
   ]
  },
  {
   "cell_type": "code",
   "execution_count": null,
   "id": "26115267-0aba-4fa2-9de4-f417655386a9",
   "metadata": {},
   "outputs": [],
   "source": [
    "from sklearn.preprocessing import MinMaxScaler"
   ]
  },
  {
   "cell_type": "code",
   "execution_count": null,
   "id": "0fb9d4d2-e714-408a-b4ed-f68da17a273e",
   "metadata": {},
   "outputs": [],
   "source": [
    "# define the scaler\n",
    "trans = MinMaxScaler()"
   ]
  },
  {
   "cell_type": "code",
   "execution_count": null,
   "id": "3865c491-aa7a-455c-9804-d64ee26fd288",
   "metadata": {},
   "outputs": [],
   "source": [
    "# transform the data\n",
    "data_norm = trans.fit_transform(data)"
   ]
  },
  {
   "cell_type": "code",
   "execution_count": null,
   "id": "7c32208f-89d1-44ba-8d52-bc7697ab55c0",
   "metadata": {},
   "outputs": [],
   "source": [
    "df_norm=pd.DataFrame(data_norm,columns=['total_bill','sex','smoker','day','time','size','tip_rate'])"
   ]
  },
  {
   "cell_type": "code",
   "execution_count": null,
   "id": "bfcb5492-f78d-4f6e-a6cb-056fc1385758",
   "metadata": {},
   "outputs": [],
   "source": [
    "df_norm.describe()"
   ]
  },
  {
   "cell_type": "code",
   "execution_count": null,
   "id": "f9a66c13-ee6f-47f9-93a7-5ccb810df5a9",
   "metadata": {},
   "outputs": [],
   "source": [
    "X.describe()"
   ]
  },
  {
   "cell_type": "markdown",
   "id": "ff9e3031-802b-4761-95f4-b1b0c9a2698f",
   "metadata": {},
   "source": [
    "###### 기존의 데이터인 X와 비교를 해보자."
   ]
  },
  {
   "cell_type": "code",
   "execution_count": null,
   "id": "235d291d-6b6d-4025-9268-7902c26ae778",
   "metadata": {},
   "outputs": [],
   "source": [
    "estimator=SVR(kernel=\"linear\")"
   ]
  },
  {
   "cell_type": "code",
   "execution_count": null,
   "id": "4ebf1ba6-a73b-47bc-b29d-6c7264729c18",
   "metadata": {},
   "outputs": [],
   "source": [
    "# define RFE\n",
    "rfe = RFE(estimator, n_features_to_select=4) #변수 7개 중 4개 가지기"
   ]
  },
  {
   "cell_type": "code",
   "execution_count": null,
   "id": "b6a224bb-c8c9-4862-a0a7-f73b44787557",
   "metadata": {},
   "outputs": [],
   "source": [
    "# fit RFE\n",
    "selecto=rfe.fit(data_norm, y)"
   ]
  },
  {
   "cell_type": "code",
   "execution_count": null,
   "id": "b72ca892-734c-4020-9edd-fac2c27d035b",
   "metadata": {},
   "outputs": [],
   "source": [
    "selecto.support_"
   ]
  },
  {
   "cell_type": "code",
   "execution_count": null,
   "id": "65caa65c-0a5b-49d0-8779-3fbaa4c47bc0",
   "metadata": {},
   "outputs": [],
   "source": [
    "df_norm.head(3)"
   ]
  },
  {
   "cell_type": "code",
   "execution_count": null,
   "id": "a176280f-788e-4cca-806f-f00247180b57",
   "metadata": {},
   "outputs": [],
   "source": [
    ",# summarize all features\n",
    "for i in range(df_norm.shape[1]):\n",
    "  print('Column: %d, Selected=%s, Rank: %d' % (i, rfe.support_[i], rfe.ranking_[i]))"
   ]
  },
  {
   "cell_type": "code",
   "execution_count": null,
   "id": "b0b6f1c7-db2f-4d7c-bf15-b00dcc0b0bdf",
   "metadata": {},
   "outputs": [],
   "source": [
    "nselecto= rfe.fit_transform(data_norm, y)"
   ]
  },
  {
   "cell_type": "code",
   "execution_count": null,
   "id": "23496bf3-19d0-463c-9674-72ddec96b20b",
   "metadata": {},
   "outputs": [],
   "source": [
    "Nselecto=pd.DataFrame(nselecto)"
   ]
  },
  {
   "cell_type": "code",
   "execution_count": null,
   "id": "902ef3ff-f05a-45bd-8d42-bd3485e39b38",
   "metadata": {},
   "outputs": [],
   "source": [
    "Nselecto.columns=['total_bill', 'smoker', 'size', 'tip_rate']"
   ]
  },
  {
   "cell_type": "code",
   "execution_count": null,
   "id": "bcfbbb11-05d9-4e72-ae0f-fc794aff750b",
   "metadata": {},
   "outputs": [],
   "source": [
    "Nselecto.describe()"
   ]
  },
  {
   "cell_type": "code",
   "execution_count": null,
   "id": "7d47d096-9462-4552-82ba-b99856d2c95f",
   "metadata": {},
   "outputs": [],
   "source": [
    "X.describe()"
   ]
  },
  {
   "cell_type": "code",
   "execution_count": null,
   "id": "23538373-9d92-4b71-b909-3872701a5dd6",
   "metadata": {},
   "outputs": [],
   "source": [
    "Nselecto.profile_report()"
   ]
  },
  {
   "cell_type": "markdown",
   "id": "c7c15834-9e9e-4dff-8a69-af5413108584",
   "metadata": {},
   "source": [
    "#### HW_with 의 RFE,  Standard 과정과 비교하자.\n",
    "#### Standard 과정을 거치지 않은 python_db_Org의 RFE는 1,3,4이 False 즉 sex, day,time가 빠졌다. \n",
    "#### Standard 과정을 거친 python_db_Standardization은 1,2,3이 False 즉, sex와 smoker,day가 빠졌다.\n",
    "#### Norm 과정을 거친 python_db_Standardization은 1,3,4이 False 즉 sex, day,time가 빠졌다.\n",
    "#### 참고로 Standard->RFE 혹은 Norm->RFE가 더 바람직하다. \n",
    "#### 파생변수인 tip_rate는 세 과정 중 빠지는 경우가 없으므로 매우 잘 설정한 변수이다."
   ]
  },
  {
   "cell_type": "markdown",
   "id": "8db58a55-7b06-4a23-8544-30e1140a508a",
   "metadata": {},
   "source": [
    "# MinMaxScaler"
   ]
  },
  {
   "cell_type": "code",
   "execution_count": null,
   "id": "70424e13-5ff1-4aab-b244-a32cd45072c7",
   "metadata": {},
   "outputs": [],
   "source": [
    "from sklearn.preprocessing import MinMaxScaler"
   ]
  },
  {
   "cell_type": "code",
   "execution_count": null,
   "id": "3d644d18-1db3-448c-9ad8-dde932ae8001",
   "metadata": {},
   "outputs": [],
   "source": [
    "trans = MinMaxScaler()"
   ]
  },
  {
   "cell_type": "code",
   "execution_count": null,
   "id": "b2bd438b-4a89-4b1f-ad72-94b8eb8213d9",
   "metadata": {},
   "outputs": [],
   "source": [
    "data.shape"
   ]
  },
  {
   "cell_type": "code",
   "execution_count": null,
   "id": "e3b1c65b-48d3-4849-88b3-05948a2f44a3",
   "metadata": {},
   "outputs": [],
   "source": [
    "X_norm = trans.fit_transform(data)"
   ]
  },
  {
   "cell_type": "code",
   "execution_count": null,
   "id": "bcd6dc6a-fda1-42fe-b9d3-fc8ace1eb9f6",
   "metadata": {},
   "outputs": [],
   "source": [
    "df_norm=pd.DataFrame(X_norm)"
   ]
  },
  {
   "cell_type": "code",
   "execution_count": null,
   "id": "e7947137-1f6b-4e5c-9856-ce45ec7eead1",
   "metadata": {},
   "outputs": [],
   "source": [
    "df_norm.describe().round()"
   ]
  },
  {
   "cell_type": "markdown",
   "id": "7b8d0f61-7613-43ec-a5c8-b53511c8c7d2",
   "metadata": {},
   "source": [
    "# Data Standardization"
   ]
  },
  {
   "cell_type": "code",
   "execution_count": null,
   "id": "b7014b9c-7f57-4a77-a872-595b420550f4",
   "metadata": {},
   "outputs": [],
   "source": [
    "from sklearn.preprocessing import StandardScaler"
   ]
  },
  {
   "cell_type": "code",
   "execution_count": null,
   "id": "5aa8355a-6e46-413b-9c5b-5e0d6db9adaf",
   "metadata": {},
   "outputs": [],
   "source": [
    "sc = StandardScaler()"
   ]
  },
  {
   "cell_type": "code",
   "execution_count": null,
   "id": "64e31286-5a88-4b72-8e3e-551ff0663ffd",
   "metadata": {},
   "outputs": [],
   "source": [
    "df_sc=sc.fit_transform(data)"
   ]
  },
  {
   "cell_type": "code",
   "execution_count": null,
   "id": "0eba2d71-3d38-440c-adc0-1853d203b78b",
   "metadata": {},
   "outputs": [],
   "source": [
    "df_trsfrom_sc=pd.DataFrame(df_sc)"
   ]
  },
  {
   "cell_type": "code",
   "execution_count": null,
   "id": "cae6c241-0e7c-405d-8374-734b085612e0",
   "metadata": {},
   "outputs": [],
   "source": [
    "df_trsfrom_sc.describe().round() #정규화가 끝나서 평균0, 분산1"
   ]
  },
  {
   "cell_type": "markdown",
   "id": "b2758c68-c75b-47b5-ab32-0fea14b20991",
   "metadata": {},
   "source": [
    "# PCA"
   ]
  },
  {
   "cell_type": "code",
   "execution_count": null,
   "id": "63fbf03d-02ff-4fd6-a733-43d5bc981406",
   "metadata": {},
   "outputs": [],
   "source": [
    "from sklearn.decomposition import PCA"
   ]
  },
  {
   "cell_type": "code",
   "execution_count": null,
   "id": "66bec815-353e-44bb-bf69-59fde13bca73",
   "metadata": {},
   "outputs": [],
   "source": [
    "# define the transform\n",
    "trans = PCA(n_components=4)"
   ]
  },
  {
   "cell_type": "code",
   "execution_count": null,
   "id": "7c83d624-eaf0-49b7-a2ef-431f505361cd",
   "metadata": {},
   "outputs": [],
   "source": [
    "# transform the data\n",
    "X_dim = trans.fit_transform(datatrans)"
   ]
  },
  {
   "cell_type": "code",
   "execution_count": null,
   "id": "4d210c33-2526-45f6-b203-9875d19c854c",
   "metadata": {},
   "outputs": [],
   "source": [
    "# summarize data after the transform\n",
    "print(X_dim[:3, :]) #X_dim은 array라서 describe(),info() 불가"
   ]
  },
  {
   "cell_type": "code",
   "execution_count": null,
   "id": "fcee2768-a42d-489f-ad60-d42ab3634337",
   "metadata": {},
   "outputs": [],
   "source": [
    "x_dim=pd.DataFrame(X_dim)"
   ]
  },
  {
   "cell_type": "code",
   "execution_count": null,
   "id": "bf75127c-17de-4287-a993-ad29f74105ec",
   "metadata": {},
   "outputs": [],
   "source": [
    "x_dim.describe().round()"
   ]
  },
  {
   "cell_type": "markdown",
   "id": "36aee31e-70c2-495c-a8be-3c14bc02d021",
   "metadata": {},
   "source": [
    "# Regression Feature Selection"
   ]
  },
  {
   "cell_type": "code",
   "execution_count": null,
   "id": "6639da35-b4bc-492a-8bf2-8c91f9f6d801",
   "metadata": {},
   "outputs": [],
   "source": [
    "from sklearn.feature_selection import SelectKBest\n",
    "from sklearn.feature_selection import f_regression"
   ]
  },
  {
   "cell_type": "code",
   "execution_count": null,
   "id": "742f7cd2-db28-40e5-ac9f-f1428a14df5e",
   "metadata": {},
   "outputs": [],
   "source": [
    "# define feature selection\n",
    "fs = SelectKBest(score_func=f_regression, k=4)"
   ]
  },
  {
   "cell_type": "code",
   "execution_count": null,
   "id": "cd650f6d-6ae1-4862-b38b-20769f3ad778",
   "metadata": {},
   "outputs": [],
   "source": [
    "datatrans.shape"
   ]
  },
  {
   "cell_type": "code",
   "execution_count": null,
   "id": "68401af9-50af-42c3-ab40-a4fd6398f50a",
   "metadata": {},
   "outputs": [],
   "source": [
    "y.shape"
   ]
  },
  {
   "cell_type": "code",
   "execution_count": null,
   "id": "7738841d-6132-42a0-b871-8f0114923f17",
   "metadata": {},
   "outputs": [],
   "source": [
    "# apply feature selection / 행이 같으므로 값이 나온다.\n",
    "X_selected = fs.fit_transform(datatrans, y)\n",
    "print(X_selected.shape)"
   ]
  },
  {
   "cell_type": "markdown",
   "id": "a9b1c05c-1a1b-4e09-ba25-fdd8da4c5cfa",
   "metadata": {},
   "source": [
    "#### rfe는 독립변수들과 목표변수와의 관계를 통해 차원을 축소시키고\n",
    "#### pca는 독립변수들끼리의 상관관계만으로만 차원을 축소시킨다."
   ]
  },
  {
   "cell_type": "code",
   "execution_count": null,
   "id": "456478c8-cb8c-4f19-8449-55b8a32597be",
   "metadata": {},
   "outputs": [],
   "source": []
  },
  {
   "cell_type": "code",
   "execution_count": null,
   "id": "a5168916-731a-40fd-b560-82ac3d2718e2",
   "metadata": {},
   "outputs": [],
   "source": []
  },
  {
   "cell_type": "code",
   "execution_count": null,
   "id": "a4d873da-2f67-4d6e-8579-ec924dfc2502",
   "metadata": {},
   "outputs": [],
   "source": [
    "#예전에 공부했던 내용들"
   ]
  },
  {
   "cell_type": "code",
   "execution_count": null,
   "id": "1c10d5e0-4b21-43cb-b6eb-fe4c8b9a49d0",
   "metadata": {},
   "outputs": [],
   "source": [
    "df.total_bill"
   ]
  },
  {
   "cell_type": "code",
   "execution_count": null,
   "id": "8e4f60a9-7067-4623-9720-1ba947f80bf5",
   "metadata": {},
   "outputs": [],
   "source": [
    "df['total_bill']"
   ]
  },
  {
   "cell_type": "code",
   "execution_count": null,
   "id": "60b540b0-f5d9-4343-8f07-b53f4e32f3e5",
   "metadata": {},
   "outputs": [],
   "source": [
    "df['total_bill'].hist()"
   ]
  },
  {
   "cell_type": "code",
   "execution_count": null,
   "id": "583fcd40-5bbf-4591-b660-6a605eb83790",
   "metadata": {},
   "outputs": [],
   "source": [
    "#새출발"
   ]
  },
  {
   "cell_type": "code",
   "execution_count": null,
   "id": "a106c2d3-a13a-4c55-a07b-71628bd289c7",
   "metadata": {},
   "outputs": [],
   "source": [
    "import pymysql.cursors\n",
    "import pandas as pd"
   ]
  },
  {
   "cell_type": "code",
   "execution_count": null,
   "id": "70601cce-ec01-4da0-91ad-bd45f0643af2",
   "metadata": {},
   "outputs": [],
   "source": [
    "sql=\"select customers.customerName, payments.checkNumber from customers left join payments on customers.customerNumber=payments.customerNumber where payments.paymentDate >= '2004-10-06';\""
   ]
  },
  {
   "cell_type": "code",
   "execution_count": null,
   "id": "e0abf416-98b3-4d5e-807d-56ef74109c49",
   "metadata": {},
   "outputs": [],
   "source": [
    "conn = pymysql.connect(host='localhost', user='me', \n",
    "                       password='9421', db='classicmodels', charset='utf8',\n",
    "                       autocommit=True, cursorclass=pymysql.cursors.DictCursor)\n",
    "try:\n",
    "\n",
    "   with conn.cursor() as curs:\n",
    "      curs.execute(sql)\n",
    "      rs = curs.fetchall()\n",
    "\n",
    "      # DB에서 받아온 값을 DataFrame에 넣음\n",
    "\n",
    "      df = pd.DataFrame(rs)\n",
    "      print(df)\n",
    "    \n",
    "    #df.to_csv('query.csv')\n",
    "\n",
    "finally:\n",
    "\n",
    "   conn.close()"
   ]
  },
  {
   "cell_type": "code",
   "execution_count": null,
   "id": "077d5ff9-e7be-44b3-9481-09467d36d063",
   "metadata": {},
   "outputs": [],
   "source": [
    "df.to_csv('query_car.csv')"
   ]
  }
 ],
 "metadata": {
  "kernelspec": {
   "display_name": "Python Multi",
   "language": "python",
   "name": "multi"
  },
  "language_info": {
   "codemirror_mode": {
    "name": "ipython",
    "version": 3
   },
   "file_extension": ".py",
   "mimetype": "text/x-python",
   "name": "python",
   "nbconvert_exporter": "python",
   "pygments_lexer": "ipython3",
   "version": "3.7.6"
  }
 },
 "nbformat": 4,
 "nbformat_minor": 5
}
